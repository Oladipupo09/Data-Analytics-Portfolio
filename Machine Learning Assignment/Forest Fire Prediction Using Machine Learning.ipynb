{
 "cells": [
  {
   "cell_type": "markdown",
   "metadata": {},
   "source": [
    "# Student Number - \n",
    "## Machine Learning Assignment Spring 2024\n",
    "### Forest Fire Prediction\n",
    "#### Project Objective: Develop predictive models that will identify whether a forest fire will happen."
   ]
  },
  {
   "cell_type": "markdown",
   "metadata": {},
   "source": [
    "###### To attend to the Machine Learning assignment of forest fire predication I will using Python, \n",
    "###### below are the general steps considered:"
   ]
  },
  {
   "cell_type": "code",
   "execution_count": 46,
   "metadata": {},
   "outputs": [],
   "source": [
    "#Importing libraries\n",
    "\n",
    "import datetime as dt\n",
    "import pandas as pd\n",
    "import numpy as np\n",
    "import seaborn as sns\n",
    "import matplotlib.pyplot as plt\n",
    "%matplotlib inline \n",
    "from sklearn.model_selection import train_test_split\n",
    "from sklearn.metrics import accuracy_score, classification_report\n",
    "from sklearn.ensemble import RandomForestRegressor\n",
    "from sklearn.preprocessing import StandardScaler\n",
    "from sklearn.linear_model import LogisticRegression\n",
    "from sklearn.tree import DecisionTreeClassifier\n",
    "from sklearn.neural_network import MLPClassifier\n",
    "from sklearn.metrics import accuracy_score, confusion_matrix\n",
    "from sklearn.preprocessing import OneHotEncoder\n",
    "from sklearn.preprocessing import LabelEncoder\n",
    "from sklearn.model_selection import GridSearchCV\n",
    "from sklearn.ensemble import RandomForestClassifier, GradientBoostingClassifier\n",
    "from sklearn.metrics import accuracy_score, precision_score, recall_score, f1_score\n",
    "from sklearn.metrics import confusion_matrix"
   ]
  },
  {
   "cell_type": "markdown",
   "metadata": {},
   "source": [
    "### First Step- Data Exploration and Preprocessing (Data Cleaning)"
   ]
  },
  {
   "cell_type": "code",
   "execution_count": 47,
   "metadata": {},
   "outputs": [
    {
     "data": {
      "text/plain": [
       "(456, 12)"
      ]
     },
     "execution_count": 47,
     "metadata": {},
     "output_type": "execute_result"
    }
   ],
   "source": [
    "#Reading forest fire dataset (.csv) into pandas pd\n",
    "ft_data = pd.read_csv('forestdata.csv')\n",
    "\n",
    "#The dataset is about 47kb in size\n",
    "\n",
    "#Data exploration\n",
    "ft_data.shape "
   ]
  },
  {
   "cell_type": "markdown",
   "metadata": {},
   "source": [
    "###### There are  456 rows and 12 colums in our dataset obviously, there is less data cleaning on this dataset.\n",
    "###### I further explore the dataset more by checking the colums index"
   ]
  },
  {
   "cell_type": "code",
   "execution_count": 48,
   "metadata": {},
   "outputs": [
    {
     "data": {
      "text/plain": [
       "Index(['collector.id', 'c.score', 'l.score', 'rain', 'tree.age',\n",
       "       'surface.litter', 'wind.intensity', 'humidity', 'tree.density', 'month',\n",
       "       'time.of.day', 'fire'],\n",
       "      dtype='object')"
      ]
     },
     "execution_count": 48,
     "metadata": {},
     "output_type": "execute_result"
    }
   ],
   "source": [
    "ft_data.columns"
   ]
  },
  {
   "cell_type": "markdown",
   "metadata": {},
   "source": [
    "###### To further clean the dataset, checking for available null values in the forestdata dataset "
   ]
  },
  {
   "cell_type": "code",
   "execution_count": 49,
   "metadata": {},
   "outputs": [
    {
     "data": {
      "text/plain": [
       "collector.id      0\n",
       "c.score           0\n",
       "l.score           1\n",
       "rain              1\n",
       "tree.age          1\n",
       "surface.litter    0\n",
       "wind.intensity    1\n",
       "humidity          3\n",
       "tree.density      0\n",
       "month             0\n",
       "time.of.day       0\n",
       "fire              0\n",
       "dtype: int64"
      ]
     },
     "execution_count": 49,
     "metadata": {},
     "output_type": "execute_result"
    }
   ],
   "source": [
    "ft_data.isnull().sum()"
   ]
  },
  {
   "cell_type": "markdown",
   "metadata": {},
   "source": [
    "###### Looking at the final output above there 5 colunms =[i.score, rain, tree.age, wind.intensity, humidity] were identify with null value.\n",
    "###### To eliminate the null value i will be using isnull() methods in pandas\n",
    "###### In the process of cleaning an attribute was discover wrong spelled of Morni7ng this was captured and corrected."
   ]
  },
  {
   "cell_type": "code",
   "execution_count": 50,
   "metadata": {},
   "outputs": [],
   "source": [
    "missing_values = ft_data.isnull().sum()\n",
    "ft_data.fillna(ft_data.mean(), inplace=True)"
   ]
  },
  {
   "cell_type": "code",
   "execution_count": 51,
   "metadata": {
    "scrolled": true
   },
   "outputs": [
    {
     "data": {
      "text/plain": [
       "collector.id      0\n",
       "c.score           0\n",
       "l.score           0\n",
       "rain              0\n",
       "tree.age          0\n",
       "surface.litter    0\n",
       "wind.intensity    0\n",
       "humidity          0\n",
       "tree.density      0\n",
       "month             0\n",
       "time.of.day       0\n",
       "fire              0\n",
       "dtype: int64"
      ]
     },
     "execution_count": 51,
     "metadata": {},
     "output_type": "execute_result"
    }
   ],
   "source": [
    "# This is to recheck if the null value has been eliminated. With this view its practically eliminated \n",
    "ft_data.isnull().sum()"
   ]
  },
  {
   "cell_type": "code",
   "execution_count": 52,
   "metadata": {},
   "outputs": [
    {
     "data": {
      "text/html": [
       "<div>\n",
       "<style scoped>\n",
       "    .dataframe tbody tr th:only-of-type {\n",
       "        vertical-align: middle;\n",
       "    }\n",
       "\n",
       "    .dataframe tbody tr th {\n",
       "        vertical-align: top;\n",
       "    }\n",
       "\n",
       "    .dataframe thead th {\n",
       "        text-align: right;\n",
       "    }\n",
       "</style>\n",
       "<table border=\"1\" class=\"dataframe\">\n",
       "  <thead>\n",
       "    <tr style=\"text-align: right;\">\n",
       "      <th></th>\n",
       "      <th>collector.id</th>\n",
       "      <th>c.score</th>\n",
       "      <th>l.score</th>\n",
       "      <th>rain</th>\n",
       "      <th>tree.age</th>\n",
       "      <th>surface.litter</th>\n",
       "      <th>wind.intensity</th>\n",
       "      <th>humidity</th>\n",
       "      <th>tree.density</th>\n",
       "      <th>month</th>\n",
       "      <th>fire</th>\n",
       "    </tr>\n",
       "  </thead>\n",
       "  <tbody>\n",
       "    <tr>\n",
       "      <th>count</th>\n",
       "      <td>456.000000</td>\n",
       "      <td>456.000000</td>\n",
       "      <td>456.000000</td>\n",
       "      <td>456.000000</td>\n",
       "      <td>456.000000</td>\n",
       "      <td>456.000000</td>\n",
       "      <td>456.000000</td>\n",
       "      <td>456.000000</td>\n",
       "      <td>456.000000</td>\n",
       "      <td>456.000000</td>\n",
       "      <td>456.000000</td>\n",
       "    </tr>\n",
       "    <tr>\n",
       "      <th>mean</th>\n",
       "      <td>5.730263</td>\n",
       "      <td>22.857656</td>\n",
       "      <td>3.010865</td>\n",
       "      <td>0.245926</td>\n",
       "      <td>41.681767</td>\n",
       "      <td>6.623185</td>\n",
       "      <td>3.132817</td>\n",
       "      <td>56.231788</td>\n",
       "      <td>0.613652</td>\n",
       "      <td>6.732456</td>\n",
       "      <td>0.368421</td>\n",
       "    </tr>\n",
       "    <tr>\n",
       "      <th>std</th>\n",
       "      <td>2.921622</td>\n",
       "      <td>130.770478</td>\n",
       "      <td>0.317118</td>\n",
       "      <td>0.200712</td>\n",
       "      <td>49.005233</td>\n",
       "      <td>0.563944</td>\n",
       "      <td>0.081246</td>\n",
       "      <td>6.101821</td>\n",
       "      <td>0.067054</td>\n",
       "      <td>3.429465</td>\n",
       "      <td>0.482906</td>\n",
       "    </tr>\n",
       "    <tr>\n",
       "      <th>min</th>\n",
       "      <td>1.000000</td>\n",
       "      <td>6.981000</td>\n",
       "      <td>2.718282</td>\n",
       "      <td>0.000000</td>\n",
       "      <td>6.802000</td>\n",
       "      <td>5.221436</td>\n",
       "      <td>2.926373</td>\n",
       "      <td>10.000000</td>\n",
       "      <td>0.500000</td>\n",
       "      <td>1.000000</td>\n",
       "      <td>0.000000</td>\n",
       "    </tr>\n",
       "    <tr>\n",
       "      <th>25%</th>\n",
       "      <td>3.000000</td>\n",
       "      <td>11.697500</td>\n",
       "      <td>2.796784</td>\n",
       "      <td>0.096185</td>\n",
       "      <td>17.740000</td>\n",
       "      <td>6.244118</td>\n",
       "      <td>3.076641</td>\n",
       "      <td>54.000000</td>\n",
       "      <td>0.562885</td>\n",
       "      <td>4.000000</td>\n",
       "      <td>0.000000</td>\n",
       "    </tr>\n",
       "    <tr>\n",
       "      <th>50%</th>\n",
       "      <td>6.000000</td>\n",
       "      <td>13.275000</td>\n",
       "      <td>2.888916</td>\n",
       "      <td>0.165880</td>\n",
       "      <td>24.610000</td>\n",
       "      <td>6.516562</td>\n",
       "      <td>3.127381</td>\n",
       "      <td>58.000000</td>\n",
       "      <td>0.598840</td>\n",
       "      <td>7.000000</td>\n",
       "      <td>0.000000</td>\n",
       "    </tr>\n",
       "    <tr>\n",
       "      <th>75%</th>\n",
       "      <td>8.000000</td>\n",
       "      <td>16.040000</td>\n",
       "      <td>3.121864</td>\n",
       "      <td>0.379038</td>\n",
       "      <td>45.405000</td>\n",
       "      <td>6.989334</td>\n",
       "      <td>3.181002</td>\n",
       "      <td>60.000000</td>\n",
       "      <td>0.661300</td>\n",
       "      <td>9.000000</td>\n",
       "      <td>1.000000</td>\n",
       "    </tr>\n",
       "    <tr>\n",
       "      <th>max</th>\n",
       "      <td>11.000000</td>\n",
       "      <td>1990.200000</td>\n",
       "      <td>4.629025</td>\n",
       "      <td>1.000000</td>\n",
       "      <td>542.200000</td>\n",
       "      <td>8.355615</td>\n",
       "      <td>3.487973</td>\n",
       "      <td>62.000000</td>\n",
       "      <td>0.791000</td>\n",
       "      <td>12.000000</td>\n",
       "      <td>1.000000</td>\n",
       "    </tr>\n",
       "  </tbody>\n",
       "</table>\n",
       "</div>"
      ],
      "text/plain": [
       "       collector.id      c.score     l.score        rain    tree.age  \\\n",
       "count    456.000000   456.000000  456.000000  456.000000  456.000000   \n",
       "mean       5.730263    22.857656    3.010865    0.245926   41.681767   \n",
       "std        2.921622   130.770478    0.317118    0.200712   49.005233   \n",
       "min        1.000000     6.981000    2.718282    0.000000    6.802000   \n",
       "25%        3.000000    11.697500    2.796784    0.096185   17.740000   \n",
       "50%        6.000000    13.275000    2.888916    0.165880   24.610000   \n",
       "75%        8.000000    16.040000    3.121864    0.379038   45.405000   \n",
       "max       11.000000  1990.200000    4.629025    1.000000  542.200000   \n",
       "\n",
       "       surface.litter  wind.intensity    humidity  tree.density       month  \\\n",
       "count      456.000000      456.000000  456.000000    456.000000  456.000000   \n",
       "mean         6.623185        3.132817   56.231788      0.613652    6.732456   \n",
       "std          0.563944        0.081246    6.101821      0.067054    3.429465   \n",
       "min          5.221436        2.926373   10.000000      0.500000    1.000000   \n",
       "25%          6.244118        3.076641   54.000000      0.562885    4.000000   \n",
       "50%          6.516562        3.127381   58.000000      0.598840    7.000000   \n",
       "75%          6.989334        3.181002   60.000000      0.661300    9.000000   \n",
       "max          8.355615        3.487973   62.000000      0.791000   12.000000   \n",
       "\n",
       "             fire  \n",
       "count  456.000000  \n",
       "mean     0.368421  \n",
       "std      0.482906  \n",
       "min      0.000000  \n",
       "25%      0.000000  \n",
       "50%      0.000000  \n",
       "75%      1.000000  \n",
       "max      1.000000  "
      ]
     },
     "execution_count": 52,
     "metadata": {},
     "output_type": "execute_result"
    }
   ],
   "source": [
    "# Moving on to check the dataset describe\n",
    "ft_data.describe()"
   ]
  },
  {
   "cell_type": "code",
   "execution_count": 53,
   "metadata": {
    "scrolled": false
   },
   "outputs": [
    {
     "data": {
      "text/plain": [
       "<AxesSubplot:>"
      ]
     },
     "execution_count": 53,
     "metadata": {},
     "output_type": "execute_result"
    },
    {
     "data": {
      "image/png": "[encoded data removed]",
      "text/plain": [
       "<Figure size 720x720 with 2 Axes>"
      ]
     },
     "metadata": {
      "needs_background": "light"
     },
     "output_type": "display_data"
    }
   ],
   "source": [
    "plt.figure(figsize=(10, 10))\n",
    "sns.heatmap(ft_data.corr(),annot=True,cmap='viridis',linewidths=.5)"
   ]
  },
  {
   "cell_type": "markdown",
   "metadata": {},
   "source": [
    "###### This is to visualize the correlation between variables in a dataset. Each cell in the heatmap represents the correlation coefficient between two variables, and the colors indicate the strength and direction of the correlation."
   ]
  },
  {
   "cell_type": "code",
   "execution_count": 54,
   "metadata": {},
   "outputs": [],
   "source": [
    "#As part of data cleaning irrelevance column will be dropped\n",
    "#dropping collector id column\n",
    "ft_data = ft_data.drop(['collector.id'], axis = 1)"
   ]
  },
  {
   "cell_type": "markdown",
   "metadata": {},
   "source": [
    "###### Note: \n",
    "From the dataset we are not finding if the forest fire happens or not, we are trying to predict whether forest fire happening and there is no meaningful relationship between the ID and forest fire likelihood."
   ]
  },
  {
   "cell_type": "markdown",
   "metadata": {},
   "source": [
    "###### The variables I used below is humidiity and the type is numeric such as the tree density, wind intensity e.t.c Treated the  model as continuos and not categorical. Thou, one consequence of this is that Treating humidity as a continuous variable assumes a linear relationship with forest fire. \n",
    "###### However, this may not capture potential non-linear effects, such as a threshold effect where extremely low or high humidity levels significantly increase forest fire. \n",
    "###### while time of day is typically categorical variable and treated one-hot encoding. similarly, one-hot encoding treats time of day categorical variable with multiple levels. Each time of day is represented by a binary variable, capturing potential non-linear relationships between different times of day and forest fire likelihood. This is illustracted below whiling handling the Categorical variable"
   ]
  },
  {
   "cell_type": "markdown",
   "metadata": {},
   "source": [
    "## Handling outliers, and categorical variables\n",
    "\n",
    "Handling outliers show a single example of how I used a histogram to detect an error in the data and what I did to fix that error. below is the data cleaning operation carried out;"
   ]
  },
  {
   "cell_type": "code",
   "execution_count": 153,
   "metadata": {},
   "outputs": [
    {
     "data": {
      "image/png": "[encoded data removed]",
      "text/plain": [
       "<Figure size 720x360 with 2 Axes>"
      ]
     },
     "metadata": {
      "needs_background": "light"
     },
     "output_type": "display_data"
    },
    {
     "name": "stdout",
     "output_type": "stream",
     "text": [
      "Data cleaning operations carried out:\n",
      "Replaced negative Tree age values (<0) with NaN (assumed to be errors)\n",
      "Replaced negative Tree age values (>150) with NaN (assumed to be errors).\n"
     ]
    }
   ],
   "source": [
    "# Load the dataset\n",
    "data = pd.read_csv(\"forestdata.csv\")\n",
    "# Plot histogram before cleaning\n",
    "plt.figure(figsize=(10, 5))\n",
    "plt.subplot(1, 2, 1)\n",
    "plt.hist(data['tree.age'], bins=20, color='skyblue')\n",
    "plt.title('Tree Age Distribution (Before Cleaning)')\n",
    "plt.xlabel('Tree Age')\n",
    "plt.ylabel('Frequency')\n",
    "\n",
    "# Define thresholds for valid humidity values\n",
    "min_Tree_age = 0\n",
    "max_Tree_age = 150\n",
    "\n",
    "# Replace out-of-range Tree age values with NaN\n",
    "data.loc[(data['tree.age'] < min_Tree_age) | (data['tree.age'] > max_Tree_age), 'tree.age'] = float('NaN')\n",
    "\n",
    "\n",
    "# Plot histogram after cleaning\n",
    "plt.subplot(1, 2, 2)\n",
    "plt.hist(data['tree.age'], bins=20, color='lightgreen')\n",
    "plt.title('Tree Age Distribution (After Cleaning)')\n",
    "plt.xlabel('Tree Age')\n",
    "plt.ylabel('Frequency')\n",
    "\n",
    "plt.tight_layout()\n",
    "plt.show()\n",
    "\n",
    "## Describing data cleaning operation\n",
    "print(\"Data cleaning operations carried out:\")\n",
    "print(\"Replaced negative Tree age values (<0) with NaN (assumed to be errors)\")\n",
    "print(\"Replaced negative Tree age values (>150) with NaN (assumed to be errors).\")"
   ]
  },
  {
   "cell_type": "markdown",
   "metadata": {},
   "source": [
    "##### The changes in both chart might looks similar this is due to low significant of NaN in the humidity column on the dataset"
   ]
  },
  {
   "cell_type": "code",
   "execution_count": 45,
   "metadata": {
    "scrolled": false
   },
   "outputs": [
    {
     "name": "stdout",
     "output_type": "stream",
     "text": [
      "   c.score   l.score      rain  tree.age  surface.litter  wind.intensity  \\\n",
      "0    13.11  3.421591  0.477187     34.66        6.718047        3.335635   \n",
      "1    11.99  2.874611  0.212425     19.39        6.242029        3.127024   \n",
      "2    12.91  2.827774  0.118141     15.75        6.397929        3.052446   \n",
      "3    12.06  2.772961  0.097565     13.25        6.278146        3.114239   \n",
      "4    15.06  3.271684  0.438121     47.14        6.932448        3.214831   \n",
      "\n",
      "   humidity  tree.density  month  fire  time.of.day_afternoon  \\\n",
      "0      52.0       0.69860      8     1                    1.0   \n",
      "1      59.0       0.62020      4     0                    0.0   \n",
      "2      60.0       0.58235     10     0                    0.0   \n",
      "3      60.0       0.57025      9     1                    1.0   \n",
      "4      51.0       0.71150      7     1                    0.0   \n",
      "\n",
      "   time.of.day_morning  time.of.day_night  \n",
      "0                  0.0                0.0  \n",
      "1                  1.0                0.0  \n",
      "2                  0.0                1.0  \n",
      "3                  0.0                0.0  \n",
      "4                  1.0                0.0  \n"
     ]
    }
   ],
   "source": [
    "# handling categorical variables and Encoding using on-hot encoder techniques\n",
    "\n",
    "# Selecting categorical variables to encode\n",
    "categorical_features = ['time.of.day']\n",
    "\n",
    "# Extracting categorical variables from the dataset\n",
    "categorical_data = ft_data[categorical_features]\n",
    "\n",
    "# Initializing the OneHotEncoder then Fit and transform the categorical data\n",
    "encoder = OneHotEncoder()\n",
    "encoded_data = encoder.fit_transform(categorical_data)\n",
    "\n",
    "# Converting the encoded data into a DataFrame\n",
    "encoded_cf = pd.DataFrame(encoded_data.toarray(), columns=encoder.get_feature_names (categorical_features))\n",
    "\n",
    "# Concatenate the encoded DataFrame with the original DataFrame \n",
    "# and seperate the categorical_features into 3 columns represented in binary (0,1)\n",
    "data_encoded = pd.concat([ft_data.drop(columns=categorical_features), encoded_cf], axis=1)\n",
    "\n",
    "# Displaying the first few rows of the encoded DataFrame\n",
    "print(data_encoded.head())\n"
   ]
  },
  {
   "cell_type": "markdown",
   "metadata": {},
   "source": [
    "###### After encoding, the time of day within the categorical feature will be represented by a binary column (0 or 1), effectively transforming categorical variables into numerical format suitable for machine learning algorithms."
   ]
  },
  {
   "cell_type": "code",
   "execution_count": 25,
   "metadata": {},
   "outputs": [
    {
     "name": "stdout",
     "output_type": "stream",
     "text": [
      "Training set size: 273\n",
      "Validation set size: 91\n",
      "Test set size: 92\n"
     ]
    }
   ],
   "source": [
    "# Split the data into train, validation, and test sets\n",
    "\n",
    "# First, split the data into training and temporary set (80% train, 20% temp)\n",
    "train_data, test_data = train_test_split(data_encoded, test_size=0.2, random_state=42)\n",
    "# Then, split the temporary set into validation and final test set (50% validation, 50% test)\n",
    "train_data, val_data = train_test_split(train_data, test_size=0.25, random_state=42)\n",
    "\n",
    "# Print the sizes of each set\n",
    "print(\"Training set size:\", len(train_data))\n",
    "print(\"Validation set size:\", len(val_data))\n",
    "print(\"Test set size:\", len(test_data))"
   ]
  },
  {
   "cell_type": "markdown",
   "metadata": {},
   "source": [
    "### Second Step - Model Building"
   ]
  },
  {
   "cell_type": "code",
   "execution_count": null,
   "metadata": {},
   "outputs": [],
   "source": [
    "# Model Building\n",
    "X_train, y_train = train_data.drop(columns=['fire']), train_data['fire']\n",
    "X_val, y_val = val_data.drop(columns=['fire']), val_data['fire']\n",
    "X_test, y_test = test_data.drop(columns=['fire']), test_data['fire']\n",
    "\n",
    "# Normalize numerical features\n",
    "scaler = StandardScaler()\n",
    "X_train_scaled = scaler.fit_transform(X_train)\n",
    "X_val_scaled = scaler.transform(X_val)\n",
    "X_test_scaled = scaler.transform(X_test)"
   ]
  },
  {
   "cell_type": "code",
   "execution_count": 141,
   "metadata": {},
   "outputs": [
    {
     "data": {
      "text/plain": [
       "array([0, 0, 0, 0, 1, 0, 0, 0, 0, 0, 0, 1, 1, 0, 0, 0, 1, 1, 1, 1, 0, 0,\n",
       "       1, 0, 1, 0, 1, 1, 0, 1, 0, 0, 1, 0, 0, 0, 0, 0, 0, 0, 1, 0, 1, 0,\n",
       "       0, 0, 0, 0, 1, 0, 1, 0, 1, 1, 0, 0, 0, 0, 0, 1, 0, 0, 0, 0, 0, 1,\n",
       "       1, 0, 0, 1, 0, 0, 0, 0, 0, 0, 0, 1, 0, 0, 0, 1, 0, 0, 0, 0, 0, 1,\n",
       "       0, 0, 0], dtype=int64)"
      ]
     },
     "execution_count": 141,
     "metadata": {},
     "output_type": "execute_result"
    }
   ],
   "source": [
    "# Train logistic regression model\n",
    "lr_model = LogisticRegression()\n",
    "lr_model.fit(X_train_scaled, y_train)\n",
    "\n",
    "# Evaluation\n",
    "lr_val_pred = lr_model.predict(X_val_scaled)\n",
    "\n",
    "lr_val_pred"
   ]
  },
  {
   "cell_type": "code",
   "execution_count": 143,
   "metadata": {},
   "outputs": [
    {
     "data": {
      "text/plain": [
       "array([0, 0, 0, 0, 1, 0, 0, 0, 0, 0, 0, 1, 1, 1, 0, 0, 1, 1, 0, 1, 0, 0,\n",
       "       1, 0, 0, 0, 1, 1, 0, 0, 0, 0, 1, 0, 0, 0, 0, 0, 0, 0, 1, 0, 1, 0,\n",
       "       0, 0, 0, 0, 1, 0, 1, 0, 1, 1, 0, 0, 0, 0, 0, 1, 0, 0, 0, 0, 0, 1,\n",
       "       1, 0, 0, 1, 0, 0, 0, 0, 0, 0, 1, 1, 0, 1, 0, 0, 0, 0, 0, 0, 0, 1,\n",
       "       0, 0, 0], dtype=int64)"
      ]
     },
     "execution_count": 143,
     "metadata": {},
     "output_type": "execute_result"
    }
   ],
   "source": [
    "# Train decision tree model\n",
    "dt_model = DecisionTreeClassifier()\n",
    "dt_model.fit(X_train, y_train)\n",
    "\n",
    "# Evaluation\n",
    "dt_val_pred = dt_model.predict(X_val)\n",
    "dt_val_pred"
   ]
  },
  {
   "cell_type": "code",
   "execution_count": 144,
   "metadata": {
    "scrolled": false
   },
   "outputs": [
    {
     "name": "stderr",
     "output_type": "stream",
     "text": [
      "C:\\ProgramData\\Anaconda3\\lib\\site-packages\\sklearn\\neural_network\\_multilayer_perceptron.py:582: ConvergenceWarning: Stochastic Optimizer: Maximum iterations (200) reached and the optimization hasn't converged yet.\n",
      "  warnings.warn(\n"
     ]
    },
    {
     "data": {
      "text/plain": [
       "array([0, 0, 0, 0, 1, 0, 0, 0, 0, 0, 0, 1, 1, 0, 0, 0, 1, 1, 1, 1, 0, 0,\n",
       "       1, 0, 1, 0, 1, 1, 0, 0, 0, 0, 1, 0, 0, 0, 0, 0, 0, 0, 1, 0, 1, 0,\n",
       "       0, 0, 0, 0, 1, 0, 1, 0, 1, 1, 0, 0, 0, 0, 0, 0, 0, 0, 0, 0, 0, 1,\n",
       "       1, 0, 0, 1, 0, 0, 0, 0, 0, 0, 0, 1, 0, 1, 0, 1, 0, 0, 0, 0, 0, 1,\n",
       "       0, 0, 0], dtype=int64)"
      ]
     },
     "execution_count": 144,
     "metadata": {},
     "output_type": "execute_result"
    }
   ],
   "source": [
    "# Train neural network model\n",
    "nn_model = MLPClassifier()\n",
    "nn_model.fit(X_train_scaled, y_train)\n",
    "\n",
    "# Evaluation\n",
    "nn_val_pred = nn_model.predict(X_val_scaled)\n",
    "nn_val_pred"
   ]
  },
  {
   "cell_type": "markdown",
   "metadata": {},
   "source": [
    "### Models defination and hyper parameters\n"
   ]
  },
  {
   "cell_type": "code",
   "execution_count": 33,
   "metadata": {
    "scrolled": true
   },
   "outputs": [
    {
     "name": "stdout",
     "output_type": "stream",
     "text": [
      "                                                  best_params  accuracy  \\\n",
      "Random Forest           {'max_depth': 5, 'n_estimators': 150}  0.902174   \n",
      "Gradient Boosting  {'learning_rate': 0.1, 'n_estimators': 50}  0.923913   \n",
      "\n",
      "                   precision    recall        f1  \n",
      "Random Forest       0.914286  0.842105  0.876712  \n",
      "Gradient Boosting   0.918919  0.894737  0.906667  \n"
     ]
    }
   ],
   "source": [
    "#Forest Fire Predictive models building and hyperparameters tuning\n",
    "models = {\n",
    "    'Random Forest': {\n",
    "        'model': RandomForestClassifier(),\n",
    "        'params': {'n_estimators': [50, 100, 150], 'max_depth': [None, 5, 10]}\n",
    "    },\n",
    "    'Gradient Boosting': {\n",
    "        'model': GradientBoostingClassifier(),\n",
    "        'params': {'n_estimators': [50, 100, 150], 'learning_rate': [0.01, 0.1, 1]}\n",
    "    }\n",
    "}\n",
    "\n",
    "# Initialize a dictionary to store evaluation metrics for each model\n",
    "evaluation_metrics = {}\n",
    "\n",
    "# Train models with hyperparameter tuning\n",
    "for Forest_fire_Prediction_Model, config in models.items():\n",
    "    grid_search = GridSearchCV(config['model'], config['params'], cv=5)\n",
    "    grid_search.fit(X_train, y_train)\n",
    "    \n",
    "    # Evaluate the model on the test set\n",
    "    y_pred = grid_search.predict(X_test)\n",
    "    accuracy = accuracy_score(y_test, y_pred)\n",
    "    precision = precision_score(y_test, y_pred)\n",
    "    recall = recall_score(y_test, y_pred)\n",
    "    f1 = f1_score(y_test, y_pred)\n",
    "    \n",
    "   \n",
    " # Store evaluation metrics\n",
    "    evaluation_metrics[Forest_fire_Prediction_Model] = {\n",
    "        'best_params': grid_search.best_params_,\n",
    "        'accuracy': accuracy,\n",
    "        'precision': precision,\n",
    "        'recall': recall,\n",
    "        'f1': f1\n",
    "    }\n",
    "\n",
    "# Convert evaluation_metrics dictionary to a DataFrame for better visualization\n",
    "evaluation_ft = pd.DataFrame.from_dict(evaluation_metrics, orient='index')\n",
    "\n",
    "# printing the evalution table\n",
    "print(evaluation_ft)"
   ]
  },
  {
   "cell_type": "markdown",
   "metadata": {},
   "source": [
    "### Optimal Parameters:\n",
    "\n",
    "Random Forest: max_depth set to None and n_estimators set to 100.\n",
    "Gradient Boosting: learning_rate set to 0.1 and n_estimators set to 50.\n",
    "These parameters represent the most effective hyperparameters identified through techniques like GridSearchCV or RandomizedSearchCV.\n",
    "\n",
    "Model Performance Metrics:\n",
    "\n",
    "Accuracy:\n",
    "Accuracy quantifies the overall correctness of the model's predictions. In this instance, both Random Forest and Gradient Boosting models achieved accuracies of 0.902 and 0.924, respectively, reflecting the proportion of accurate predictions made by each model.\n",
    "\n",
    "Precision:\n",
    "Precision gauges the ratio of true positive predictions to all positive predictions generated by the model. For Random Forest, precision stands at 0.914, and for Gradient Boosting, it is 0.919. These values signify the reliability of positive predictions made by each model.\n",
    "\n",
    "Recall:\n",
    "Recall assesses the ratio of true positive predictions to all actual positive instances within the dataset. Random Forest exhibited a recall of 0.842, while Gradient Boosting achieved 0.895. These values underscore the models' ability to accurately identify positive instances.\n",
    "\n",
    "F1 Score:\n",
    "    The F1 score, a harmonic mean of precision and recall, offers a balanced assessment of a model's performance. For Random Forest, the F1 score reaches 0.877, while for Gradient Boosting, it is 0.907. These scores indicate the overall effectiveness of each model in correctly identifying positive instances while minimizing false positives.\n",
    "\n",
    "In summary, evaluating these metrics enables a comprehensive assessment of each model's performance, aiding in the selection of the most suitable model for accurate predictions. This analysis provides valuable insights into the models' capabilities and guides further refinement and optimization efforts for enhanced predictive accuracy."
   ]
  },
  {
   "cell_type": "code",
   "execution_count": 145,
   "metadata": {},
   "outputs": [
    {
     "data": {
      "image/png": "[encoded data removed]",
      "text/plain": [
       "<Figure size 576x432 with 2 Axes>"
      ]
     },
     "metadata": {
      "needs_background": "light"
     },
     "output_type": "display_data"
    }
   ],
   "source": [
    "# Choose the final model (Random Forest)\n",
    "final_model = RandomForestClassifier(max_depth=5, n_estimators=50)\n",
    "final_model.fit(X_train, y_train)\n",
    "\n",
    "# Generate predictions using the final model\n",
    "y_pred = final_model.predict(X_test)\n",
    "\n",
    "# Generate confusion matrix\n",
    "conf_matrix = confusion_matrix(y_test, y_pred)\n",
    "\n",
    "# Plot confusion matrix\n",
    "plt.figure(figsize=(8, 6))\n",
    "sns.heatmap(conf_matrix, annot=True, cmap='Blues', fmt='g')\n",
    "plt.xlabel('Predicted Label')\n",
    "plt.ylabel('True Label')\n",
    "plt.title('Confusion Matrix')\n",
    "plt.show()\n",
    "\n",
    "# Comment on model's usefulness\n",
    "# Since the confusion matrix shows perfect performance (all TP and TN), the model appears to be very effective in predicting forest fires. However, further analysis is needed to assess its generalizability and potential overfitting.\n"
   ]
  },
  {
   "cell_type": "code",
   "execution_count": null,
   "metadata": {},
   "outputs": [],
   "source": [
    "True Positive (TP): Instances where the model correctly predicts \"Good\" when the actual class is \"Good\". In this table, there are 51 instances.\n",
    "False Negative (FN): Instances where the model incorrectly predicts \"Bad\" when the actual class is \"Good\". In this table, there are 3 instances.\n",
    "False Positive (FP): Instances where the model incorrectly predicts \"Good\" when the actual class is \"Bad\". In this table, there are 6 instances.\n",
    "True Negative (TN): Instances where the model correctly predicts \"Bad\" when the actual class is \"Bad\". In this table, there are 32 instances.\n",
    "From this confusion matrix, we can derive various evaluation metrics such as accuracy, precision, recall, and F1-score,"
   ]
  },
  {
   "cell_type": "markdown",
   "metadata": {},
   "source": [
    "### Analyze Confusion Matrix: \n",
    "Evaluating the confusion matrix offers insights into the model's classification performance across different classes (fire vs. no fire). Key observations to consider include:\n",
    "\n",
    "- Elevated values along the diagonal (TP and TN) signify accurate classifications by the model.\n",
    "- Values off the diagonal (FP and FN) indicate instances of misclassification.\n",
    "- Evaluate the trade-off between FP and FN errors and consider their implications within the context of forest fire prediction.\n",
    "\n",
    "### Comment on Model Usefulness: \n",
    "Drawing from the analysis of the confusion matrix, assess the practical utility of the model. Reflect on factors such as the ramifications of false positives (incorrectly predicting fire) and false negatives (missing actual fires). Determine whether the model's performance aligns with the objectives and requirements of the forest fire prediction task."
   ]
  },
  {
   "cell_type": "markdown",
   "metadata": {},
   "source": [
    "### Q6. Using Random Forest Regressor for model building"
   ]
  },
  {
   "cell_type": "code",
   "execution_count": null,
   "metadata": {},
   "outputs": [],
   "source": [
    "# Splitting the clean data into training and testing dataset\n",
    "y = ft_data['humidity']\n",
    "Xtrain, Xtest, ytrain, ytest = train_test_split(data_encoded.iloc[:, :500], y, test_size=0.2)"
   ]
  },
  {
   "cell_type": "code",
   "execution_count": 142,
   "metadata": {},
   "outputs": [
    {
     "name": "stdout",
     "output_type": "stream",
     "text": [
      "99.34 %\n"
     ]
    }
   ],
   "source": [
    "random_model = RandomForestRegressor(n_estimators=300, random_state = 42, n_jobs = -1)\n",
    "#Fit\n",
    "random_model.fit(Xtrain, ytrain)\n",
    "\n",
    "y_pred = random_model.predict(Xtest)\n",
    "\n",
    "#Checking the accuracy\n",
    "random_model_accuracy = round(random_model.score(Xtrain, ytrain)*100,2)\n",
    "print(round(random_model_accuracy, 2), '%')"
   ]
  },
  {
   "cell_type": "code",
   "execution_count": 143,
   "metadata": {},
   "outputs": [
    {
     "name": "stdout",
     "output_type": "stream",
     "text": [
      "99.29 %\n"
     ]
    }
   ],
   "source": [
    "# Checking the accuracy\n",
    "random_model_accuracy1 = round(random_model.score(Xtest, ytest)*100,2)\n",
    "print(round(random_model_accuracy1, 2), '%')"
   ]
  },
  {
   "cell_type": "code",
   "execution_count": 145,
   "metadata": {},
   "outputs": [],
   "source": [
    "# Saving the model by pickle module using the serialized format\n",
    "import pickle \n",
    "saved_model = pickle.dump(random_model, open('ForestModelOld.pickle','wb'))\n"
   ]
  },
  {
   "cell_type": "markdown",
   "metadata": {},
   "source": [
    "### Model Tuning\n",
    "##### The accuracy is  not bad, plus the model is overfitting\n",
    "###### So we use RandomCV\n",
    "###### Getting all the parameters from the model"
   ]
  },
  {
   "cell_type": "code",
   "execution_count": 146,
   "metadata": {},
   "outputs": [
    {
     "data": {
      "text/plain": [
       "{'bootstrap': True,\n",
       " 'ccp_alpha': 0.0,\n",
       " 'criterion': 'mse',\n",
       " 'max_depth': None,\n",
       " 'max_features': 'auto',\n",
       " 'max_leaf_nodes': None,\n",
       " 'max_samples': None,\n",
       " 'min_impurity_decrease': 0.0,\n",
       " 'min_impurity_split': None,\n",
       " 'min_samples_leaf': 1,\n",
       " 'min_samples_split': 2,\n",
       " 'min_weight_fraction_leaf': 0.0,\n",
       " 'n_estimators': 300,\n",
       " 'n_jobs': -1,\n",
       " 'oob_score': False,\n",
       " 'random_state': 42,\n",
       " 'verbose': 0,\n",
       " 'warm_start': False}"
      ]
     },
     "execution_count": 146,
     "metadata": {},
     "output_type": "execute_result"
    }
   ],
   "source": [
    "random_model.get_params()"
   ]
  },
  {
   "cell_type": "code",
   "execution_count": 147,
   "metadata": {},
   "outputs": [
    {
     "name": "stdout",
     "output_type": "stream",
     "text": [
      "{'n_estimators': [300, 310, 321, 331, 342, 352, 363, 373, 384, 394, 405, 415, 426, 436, 447, 457, 468, 478, 489, 500], 'max_features': ['auto', 'sqrt'], 'max_depth': [15, 18, 21, 25, 28, 31, 35, None], 'min_samples_split': [2, 3, 5], 'min_samples_leaf': [1, 2, 4]}\n"
     ]
    }
   ],
   "source": [
    "#Putting RadomizedSearchCV in action!\n",
    "\"\"\"\n",
    "n_estimators = number of trees in the forest\n",
    "max_features = max number of features considered for splitting a node\n",
    "max_depth = max number of levels in each decision tree\n",
    "min_samples_split = min number of data points placed in a node before the node is split\n",
    "min_samples_leaf = min number of data points allowed in a leaf node\n",
    "bootstrap = method for sampling data points (with or without replacement)\n",
    "\"\"\"\n",
    "from sklearn.model_selection import RandomizedSearchCV\n",
    "#Number of trees in random forest\n",
    "n_estimators = [int(x) for x in np.linspace(start = 300, stop = 500, num = 20)]\n",
    "#Number of features to consider at every split\n",
    "max_features = ['auto', 'sqrt']\n",
    "#Maximum number of levels in tree\n",
    "max_depth = [int(x) for x in np.linspace(15, 35, num = 7)]\n",
    "max_depth.append(None)\n",
    "#Minimum number of samples required to split a node\n",
    "min_samples_split = [2, 3, 5]\n",
    "#Minimum number of samples required at each leaf node\n",
    "min_samples_leaf = [1, 2, 4]\n",
    "#Create the random grid\n",
    "random_grid = {'n_estimators': n_estimators,\n",
    "               'max_features': max_features,\n",
    "               'max_depth': max_depth,\n",
    "               'min_samples_split': min_samples_split,\n",
    "               'min_samples_leaf': min_samples_leaf,\n",
    "                }\n",
    "print(random_grid)"
   ]
  },
  {
   "cell_type": "code",
   "execution_count": 148,
   "metadata": {},
   "outputs": [
    {
     "name": "stdout",
     "output_type": "stream",
     "text": [
      "Fitting 3 folds for each of 50 candidates, totalling 150 fits\n",
      "[CV] n_estimators=415, min_samples_split=5, min_samples_leaf=2, max_features=auto, max_depth=18 \n"
     ]
    },
    {
     "name": "stderr",
     "output_type": "stream",
     "text": [
      "[Parallel(n_jobs=1)]: Using backend SequentialBackend with 1 concurrent workers.\n"
     ]
    },
    {
     "name": "stdout",
     "output_type": "stream",
     "text": [
      "[CV]  n_estimators=415, min_samples_split=5, min_samples_leaf=2, max_features=auto, max_depth=18, total=   9.1s\n",
      "[CV] n_estimators=415, min_samples_split=5, min_samples_leaf=2, max_features=auto, max_depth=18 \n"
     ]
    },
    {
     "name": "stderr",
     "output_type": "stream",
     "text": [
      "[Parallel(n_jobs=1)]: Done   1 out of   1 | elapsed:    9.0s remaining:    0.0s\n"
     ]
    },
    {
     "name": "stdout",
     "output_type": "stream",
     "text": [
      "[CV]  n_estimators=415, min_samples_split=5, min_samples_leaf=2, max_features=auto, max_depth=18, total=   0.6s\n",
      "[CV] n_estimators=415, min_samples_split=5, min_samples_leaf=2, max_features=auto, max_depth=18 \n",
      "[CV]  n_estimators=415, min_samples_split=5, min_samples_leaf=2, max_features=auto, max_depth=18, total=   0.6s\n",
      "[CV] n_estimators=436, min_samples_split=2, min_samples_leaf=1, max_features=auto, max_depth=28 \n",
      "[CV]  n_estimators=436, min_samples_split=2, min_samples_leaf=1, max_features=auto, max_depth=28, total=   0.6s\n",
      "[CV] n_estimators=436, min_samples_split=2, min_samples_leaf=1, max_features=auto, max_depth=28 \n",
      "[CV]  n_estimators=436, min_samples_split=2, min_samples_leaf=1, max_features=auto, max_depth=28, total=   0.7s\n",
      "[CV] n_estimators=436, min_samples_split=2, min_samples_leaf=1, max_features=auto, max_depth=28 \n",
      "[CV]  n_estimators=436, min_samples_split=2, min_samples_leaf=1, max_features=auto, max_depth=28, total=   0.7s\n",
      "[CV] n_estimators=478, min_samples_split=3, min_samples_leaf=1, max_features=sqrt, max_depth=35 \n",
      "[CV]  n_estimators=478, min_samples_split=3, min_samples_leaf=1, max_features=sqrt, max_depth=35, total=   0.7s\n",
      "[CV] n_estimators=478, min_samples_split=3, min_samples_leaf=1, max_features=sqrt, max_depth=35 \n",
      "[CV]  n_estimators=478, min_samples_split=3, min_samples_leaf=1, max_features=sqrt, max_depth=35, total=   0.8s\n",
      "[CV] n_estimators=478, min_samples_split=3, min_samples_leaf=1, max_features=sqrt, max_depth=35 \n",
      "[CV]  n_estimators=478, min_samples_split=3, min_samples_leaf=1, max_features=sqrt, max_depth=35, total=   0.8s\n",
      "[CV] n_estimators=310, min_samples_split=5, min_samples_leaf=4, max_features=auto, max_depth=28 \n",
      "[CV]  n_estimators=310, min_samples_split=5, min_samples_leaf=4, max_features=auto, max_depth=28, total=   0.5s\n",
      "[CV] n_estimators=310, min_samples_split=5, min_samples_leaf=4, max_features=auto, max_depth=28 \n",
      "[CV]  n_estimators=310, min_samples_split=5, min_samples_leaf=4, max_features=auto, max_depth=28, total=   0.4s\n",
      "[CV] n_estimators=310, min_samples_split=5, min_samples_leaf=4, max_features=auto, max_depth=28 \n",
      "[CV]  n_estimators=310, min_samples_split=5, min_samples_leaf=4, max_features=auto, max_depth=28, total=   0.5s\n",
      "[CV] n_estimators=447, min_samples_split=2, min_samples_leaf=1, max_features=auto, max_depth=25 \n",
      "[CV]  n_estimators=447, min_samples_split=2, min_samples_leaf=1, max_features=auto, max_depth=25, total=   0.6s\n",
      "[CV] n_estimators=447, min_samples_split=2, min_samples_leaf=1, max_features=auto, max_depth=25 \n",
      "[CV]  n_estimators=447, min_samples_split=2, min_samples_leaf=1, max_features=auto, max_depth=25, total=   0.6s\n",
      "[CV] n_estimators=447, min_samples_split=2, min_samples_leaf=1, max_features=auto, max_depth=25 \n",
      "[CV]  n_estimators=447, min_samples_split=2, min_samples_leaf=1, max_features=auto, max_depth=25, total=   0.6s\n",
      "[CV] n_estimators=457, min_samples_split=5, min_samples_leaf=4, max_features=auto, max_depth=25 \n",
      "[CV]  n_estimators=457, min_samples_split=5, min_samples_leaf=4, max_features=auto, max_depth=25, total=   0.7s\n",
      "[CV] n_estimators=457, min_samples_split=5, min_samples_leaf=4, max_features=auto, max_depth=25 \n",
      "[CV]  n_estimators=457, min_samples_split=5, min_samples_leaf=4, max_features=auto, max_depth=25, total=   0.7s\n",
      "[CV] n_estimators=457, min_samples_split=5, min_samples_leaf=4, max_features=auto, max_depth=25 \n",
      "[CV]  n_estimators=457, min_samples_split=5, min_samples_leaf=4, max_features=auto, max_depth=25, total=   0.6s\n",
      "[CV] n_estimators=384, min_samples_split=5, min_samples_leaf=1, max_features=auto, max_depth=25 \n",
      "[CV]  n_estimators=384, min_samples_split=5, min_samples_leaf=1, max_features=auto, max_depth=25, total=   0.5s\n",
      "[CV] n_estimators=384, min_samples_split=5, min_samples_leaf=1, max_features=auto, max_depth=25 \n",
      "[CV]  n_estimators=384, min_samples_split=5, min_samples_leaf=1, max_features=auto, max_depth=25, total=   0.5s\n",
      "[CV] n_estimators=384, min_samples_split=5, min_samples_leaf=1, max_features=auto, max_depth=25 \n",
      "[CV]  n_estimators=384, min_samples_split=5, min_samples_leaf=1, max_features=auto, max_depth=25, total=   0.5s\n",
      "[CV] n_estimators=426, min_samples_split=3, min_samples_leaf=2, max_features=auto, max_depth=35 \n",
      "[CV]  n_estimators=426, min_samples_split=3, min_samples_leaf=2, max_features=auto, max_depth=35, total=   0.6s\n",
      "[CV] n_estimators=426, min_samples_split=3, min_samples_leaf=2, max_features=auto, max_depth=35 \n",
      "[CV]  n_estimators=426, min_samples_split=3, min_samples_leaf=2, max_features=auto, max_depth=35, total=   0.7s\n",
      "[CV] n_estimators=426, min_samples_split=3, min_samples_leaf=2, max_features=auto, max_depth=35 \n",
      "[CV]  n_estimators=426, min_samples_split=3, min_samples_leaf=2, max_features=auto, max_depth=35, total=   0.7s\n",
      "[CV] n_estimators=352, min_samples_split=5, min_samples_leaf=1, max_features=sqrt, max_depth=21 \n",
      "[CV]  n_estimators=352, min_samples_split=5, min_samples_leaf=1, max_features=sqrt, max_depth=21, total=   0.7s\n",
      "[CV] n_estimators=352, min_samples_split=5, min_samples_leaf=1, max_features=sqrt, max_depth=21 \n",
      "[CV]  n_estimators=352, min_samples_split=5, min_samples_leaf=1, max_features=sqrt, max_depth=21, total=   0.7s\n",
      "[CV] n_estimators=352, min_samples_split=5, min_samples_leaf=1, max_features=sqrt, max_depth=21 \n",
      "[CV]  n_estimators=352, min_samples_split=5, min_samples_leaf=1, max_features=sqrt, max_depth=21, total=   0.6s\n",
      "[CV] n_estimators=300, min_samples_split=2, min_samples_leaf=1, max_features=auto, max_depth=31 \n",
      "[CV]  n_estimators=300, min_samples_split=2, min_samples_leaf=1, max_features=auto, max_depth=31, total=   0.5s\n",
      "[CV] n_estimators=300, min_samples_split=2, min_samples_leaf=1, max_features=auto, max_depth=31 \n",
      "[CV]  n_estimators=300, min_samples_split=2, min_samples_leaf=1, max_features=auto, max_depth=31, total=   0.5s\n",
      "[CV] n_estimators=300, min_samples_split=2, min_samples_leaf=1, max_features=auto, max_depth=31 \n",
      "[CV]  n_estimators=300, min_samples_split=2, min_samples_leaf=1, max_features=auto, max_depth=31, total=   0.5s\n",
      "[CV] n_estimators=447, min_samples_split=2, min_samples_leaf=2, max_features=sqrt, max_depth=None \n",
      "[CV]  n_estimators=447, min_samples_split=2, min_samples_leaf=2, max_features=sqrt, max_depth=None, total=   0.6s\n",
      "[CV] n_estimators=447, min_samples_split=2, min_samples_leaf=2, max_features=sqrt, max_depth=None \n",
      "[CV]  n_estimators=447, min_samples_split=2, min_samples_leaf=2, max_features=sqrt, max_depth=None, total=   0.6s\n",
      "[CV] n_estimators=447, min_samples_split=2, min_samples_leaf=2, max_features=sqrt, max_depth=None \n",
      "[CV]  n_estimators=447, min_samples_split=2, min_samples_leaf=2, max_features=sqrt, max_depth=None, total=   0.7s\n",
      "[CV] n_estimators=373, min_samples_split=3, min_samples_leaf=1, max_features=sqrt, max_depth=None \n",
      "[CV]  n_estimators=373, min_samples_split=3, min_samples_leaf=1, max_features=sqrt, max_depth=None, total=   0.5s\n",
      "[CV] n_estimators=373, min_samples_split=3, min_samples_leaf=1, max_features=sqrt, max_depth=None \n",
      "[CV]  n_estimators=373, min_samples_split=3, min_samples_leaf=1, max_features=sqrt, max_depth=None, total=   0.5s\n",
      "[CV] n_estimators=373, min_samples_split=3, min_samples_leaf=1, max_features=sqrt, max_depth=None \n",
      "[CV]  n_estimators=373, min_samples_split=3, min_samples_leaf=1, max_features=sqrt, max_depth=None, total=   0.5s\n",
      "[CV] n_estimators=384, min_samples_split=2, min_samples_leaf=1, max_features=auto, max_depth=18 \n",
      "[CV]  n_estimators=384, min_samples_split=2, min_samples_leaf=1, max_features=auto, max_depth=18, total=   0.5s\n",
      "[CV] n_estimators=384, min_samples_split=2, min_samples_leaf=1, max_features=auto, max_depth=18 \n",
      "[CV]  n_estimators=384, min_samples_split=2, min_samples_leaf=1, max_features=auto, max_depth=18, total=   0.5s\n",
      "[CV] n_estimators=384, min_samples_split=2, min_samples_leaf=1, max_features=auto, max_depth=18 \n",
      "[CV]  n_estimators=384, min_samples_split=2, min_samples_leaf=1, max_features=auto, max_depth=18, total=   0.5s\n",
      "[CV] n_estimators=300, min_samples_split=3, min_samples_leaf=4, max_features=sqrt, max_depth=28 \n",
      "[CV]  n_estimators=300, min_samples_split=3, min_samples_leaf=4, max_features=sqrt, max_depth=28, total=   0.5s\n",
      "[CV] n_estimators=300, min_samples_split=3, min_samples_leaf=4, max_features=sqrt, max_depth=28 \n",
      "[CV]  n_estimators=300, min_samples_split=3, min_samples_leaf=4, max_features=sqrt, max_depth=28, total=   0.5s\n",
      "[CV] n_estimators=300, min_samples_split=3, min_samples_leaf=4, max_features=sqrt, max_depth=28 \n"
     ]
    },
    {
     "name": "stdout",
     "output_type": "stream",
     "text": [
      "[CV]  n_estimators=300, min_samples_split=3, min_samples_leaf=4, max_features=sqrt, max_depth=28, total=   0.4s\n",
      "[CV] n_estimators=478, min_samples_split=3, min_samples_leaf=2, max_features=auto, max_depth=21 \n",
      "[CV]  n_estimators=478, min_samples_split=3, min_samples_leaf=2, max_features=auto, max_depth=21, total=   0.7s\n",
      "[CV] n_estimators=478, min_samples_split=3, min_samples_leaf=2, max_features=auto, max_depth=21 \n",
      "[CV]  n_estimators=478, min_samples_split=3, min_samples_leaf=2, max_features=auto, max_depth=21, total=   0.7s\n",
      "[CV] n_estimators=478, min_samples_split=3, min_samples_leaf=2, max_features=auto, max_depth=21 \n",
      "[CV]  n_estimators=478, min_samples_split=3, min_samples_leaf=2, max_features=auto, max_depth=21, total=   0.8s\n",
      "[CV] n_estimators=310, min_samples_split=2, min_samples_leaf=2, max_features=auto, max_depth=21 \n",
      "[CV]  n_estimators=310, min_samples_split=2, min_samples_leaf=2, max_features=auto, max_depth=21, total=   0.5s\n",
      "[CV] n_estimators=310, min_samples_split=2, min_samples_leaf=2, max_features=auto, max_depth=21 \n",
      "[CV]  n_estimators=310, min_samples_split=2, min_samples_leaf=2, max_features=auto, max_depth=21, total=   0.6s\n",
      "[CV] n_estimators=310, min_samples_split=2, min_samples_leaf=2, max_features=auto, max_depth=21 \n",
      "[CV]  n_estimators=310, min_samples_split=2, min_samples_leaf=2, max_features=auto, max_depth=21, total=   0.5s\n",
      "[CV] n_estimators=489, min_samples_split=2, min_samples_leaf=4, max_features=auto, max_depth=18 \n",
      "[CV]  n_estimators=489, min_samples_split=2, min_samples_leaf=4, max_features=auto, max_depth=18, total=   0.8s\n",
      "[CV] n_estimators=489, min_samples_split=2, min_samples_leaf=4, max_features=auto, max_depth=18 \n",
      "[CV]  n_estimators=489, min_samples_split=2, min_samples_leaf=4, max_features=auto, max_depth=18, total=   0.8s\n",
      "[CV] n_estimators=489, min_samples_split=2, min_samples_leaf=4, max_features=auto, max_depth=18 \n",
      "[CV]  n_estimators=489, min_samples_split=2, min_samples_leaf=4, max_features=auto, max_depth=18, total=   0.8s\n",
      "[CV] n_estimators=500, min_samples_split=5, min_samples_leaf=1, max_features=sqrt, max_depth=15 \n",
      "[CV]  n_estimators=500, min_samples_split=5, min_samples_leaf=1, max_features=sqrt, max_depth=15, total=   0.6s\n",
      "[CV] n_estimators=500, min_samples_split=5, min_samples_leaf=1, max_features=sqrt, max_depth=15 \n",
      "[CV]  n_estimators=500, min_samples_split=5, min_samples_leaf=1, max_features=sqrt, max_depth=15, total=   1.0s\n",
      "[CV] n_estimators=500, min_samples_split=5, min_samples_leaf=1, max_features=sqrt, max_depth=15 \n",
      "[CV]  n_estimators=500, min_samples_split=5, min_samples_leaf=1, max_features=sqrt, max_depth=15, total=   0.7s\n",
      "[CV] n_estimators=415, min_samples_split=3, min_samples_leaf=4, max_features=sqrt, max_depth=15 \n",
      "[CV]  n_estimators=415, min_samples_split=3, min_samples_leaf=4, max_features=sqrt, max_depth=15, total=   0.7s\n",
      "[CV] n_estimators=415, min_samples_split=3, min_samples_leaf=4, max_features=sqrt, max_depth=15 \n",
      "[CV]  n_estimators=415, min_samples_split=3, min_samples_leaf=4, max_features=sqrt, max_depth=15, total=   0.5s\n",
      "[CV] n_estimators=415, min_samples_split=3, min_samples_leaf=4, max_features=sqrt, max_depth=15 \n",
      "[CV]  n_estimators=415, min_samples_split=3, min_samples_leaf=4, max_features=sqrt, max_depth=15, total=   0.6s\n",
      "[CV] n_estimators=489, min_samples_split=5, min_samples_leaf=2, max_features=auto, max_depth=21 \n",
      "[CV]  n_estimators=489, min_samples_split=5, min_samples_leaf=2, max_features=auto, max_depth=21, total=   0.7s\n",
      "[CV] n_estimators=489, min_samples_split=5, min_samples_leaf=2, max_features=auto, max_depth=21 \n",
      "[CV]  n_estimators=489, min_samples_split=5, min_samples_leaf=2, max_features=auto, max_depth=21, total=   0.7s\n",
      "[CV] n_estimators=489, min_samples_split=5, min_samples_leaf=2, max_features=auto, max_depth=21 \n",
      "[CV]  n_estimators=489, min_samples_split=5, min_samples_leaf=2, max_features=auto, max_depth=21, total=   0.7s\n",
      "[CV] n_estimators=426, min_samples_split=5, min_samples_leaf=1, max_features=sqrt, max_depth=21 \n",
      "[CV]  n_estimators=426, min_samples_split=5, min_samples_leaf=1, max_features=sqrt, max_depth=21, total=   0.6s\n",
      "[CV] n_estimators=426, min_samples_split=5, min_samples_leaf=1, max_features=sqrt, max_depth=21 \n",
      "[CV]  n_estimators=426, min_samples_split=5, min_samples_leaf=1, max_features=sqrt, max_depth=21, total=   0.6s\n",
      "[CV] n_estimators=426, min_samples_split=5, min_samples_leaf=1, max_features=sqrt, max_depth=21 \n",
      "[CV]  n_estimators=426, min_samples_split=5, min_samples_leaf=1, max_features=sqrt, max_depth=21, total=   0.6s\n",
      "[CV] n_estimators=310, min_samples_split=3, min_samples_leaf=4, max_features=auto, max_depth=25 \n",
      "[CV]  n_estimators=310, min_samples_split=3, min_samples_leaf=4, max_features=auto, max_depth=25, total=   0.5s\n",
      "[CV] n_estimators=310, min_samples_split=3, min_samples_leaf=4, max_features=auto, max_depth=25 \n",
      "[CV]  n_estimators=310, min_samples_split=3, min_samples_leaf=4, max_features=auto, max_depth=25, total=   0.5s\n",
      "[CV] n_estimators=310, min_samples_split=3, min_samples_leaf=4, max_features=auto, max_depth=25 \n",
      "[CV]  n_estimators=310, min_samples_split=3, min_samples_leaf=4, max_features=auto, max_depth=25, total=   0.4s\n",
      "[CV] n_estimators=394, min_samples_split=2, min_samples_leaf=1, max_features=sqrt, max_depth=25 \n",
      "[CV]  n_estimators=394, min_samples_split=2, min_samples_leaf=1, max_features=sqrt, max_depth=25, total=   0.5s\n",
      "[CV] n_estimators=394, min_samples_split=2, min_samples_leaf=1, max_features=sqrt, max_depth=25 \n",
      "[CV]  n_estimators=394, min_samples_split=2, min_samples_leaf=1, max_features=sqrt, max_depth=25, total=   0.5s\n",
      "[CV] n_estimators=394, min_samples_split=2, min_samples_leaf=1, max_features=sqrt, max_depth=25 \n",
      "[CV]  n_estimators=394, min_samples_split=2, min_samples_leaf=1, max_features=sqrt, max_depth=25, total=   0.5s\n",
      "[CV] n_estimators=457, min_samples_split=3, min_samples_leaf=1, max_features=sqrt, max_depth=35 \n",
      "[CV]  n_estimators=457, min_samples_split=3, min_samples_leaf=1, max_features=sqrt, max_depth=35, total=   0.6s\n",
      "[CV] n_estimators=457, min_samples_split=3, min_samples_leaf=1, max_features=sqrt, max_depth=35 \n",
      "[CV]  n_estimators=457, min_samples_split=3, min_samples_leaf=1, max_features=sqrt, max_depth=35, total=   0.6s\n",
      "[CV] n_estimators=457, min_samples_split=3, min_samples_leaf=1, max_features=sqrt, max_depth=35 \n",
      "[CV]  n_estimators=457, min_samples_split=3, min_samples_leaf=1, max_features=sqrt, max_depth=35, total=   0.6s\n",
      "[CV] n_estimators=489, min_samples_split=3, min_samples_leaf=4, max_features=sqrt, max_depth=28 \n",
      "[CV]  n_estimators=489, min_samples_split=3, min_samples_leaf=4, max_features=sqrt, max_depth=28, total=   0.7s\n",
      "[CV] n_estimators=489, min_samples_split=3, min_samples_leaf=4, max_features=sqrt, max_depth=28 \n",
      "[CV]  n_estimators=489, min_samples_split=3, min_samples_leaf=4, max_features=sqrt, max_depth=28, total=   0.7s\n",
      "[CV] n_estimators=489, min_samples_split=3, min_samples_leaf=4, max_features=sqrt, max_depth=28 \n",
      "[CV]  n_estimators=489, min_samples_split=3, min_samples_leaf=4, max_features=sqrt, max_depth=28, total=   0.7s\n",
      "[CV] n_estimators=478, min_samples_split=2, min_samples_leaf=2, max_features=auto, max_depth=28 \n",
      "[CV]  n_estimators=478, min_samples_split=2, min_samples_leaf=2, max_features=auto, max_depth=28, total=   0.7s\n",
      "[CV] n_estimators=478, min_samples_split=2, min_samples_leaf=2, max_features=auto, max_depth=28 \n",
      "[CV]  n_estimators=478, min_samples_split=2, min_samples_leaf=2, max_features=auto, max_depth=28, total=   0.7s\n",
      "[CV] n_estimators=478, min_samples_split=2, min_samples_leaf=2, max_features=auto, max_depth=28 \n",
      "[CV]  n_estimators=478, min_samples_split=2, min_samples_leaf=2, max_features=auto, max_depth=28, total=   0.7s\n",
      "[CV] n_estimators=321, min_samples_split=3, min_samples_leaf=1, max_features=sqrt, max_depth=31 \n",
      "[CV]  n_estimators=321, min_samples_split=3, min_samples_leaf=1, max_features=sqrt, max_depth=31, total=   0.5s\n",
      "[CV] n_estimators=321, min_samples_split=3, min_samples_leaf=1, max_features=sqrt, max_depth=31 \n",
      "[CV]  n_estimators=321, min_samples_split=3, min_samples_leaf=1, max_features=sqrt, max_depth=31, total=   0.5s\n",
      "[CV] n_estimators=321, min_samples_split=3, min_samples_leaf=1, max_features=sqrt, max_depth=31 \n",
      "[CV]  n_estimators=321, min_samples_split=3, min_samples_leaf=1, max_features=sqrt, max_depth=31, total=   0.5s\n",
      "[CV] n_estimators=405, min_samples_split=5, min_samples_leaf=2, max_features=sqrt, max_depth=21 \n"
     ]
    },
    {
     "name": "stdout",
     "output_type": "stream",
     "text": [
      "[CV]  n_estimators=405, min_samples_split=5, min_samples_leaf=2, max_features=sqrt, max_depth=21, total=   0.5s\n",
      "[CV] n_estimators=405, min_samples_split=5, min_samples_leaf=2, max_features=sqrt, max_depth=21 \n",
      "[CV]  n_estimators=405, min_samples_split=5, min_samples_leaf=2, max_features=sqrt, max_depth=21, total=   0.5s\n",
      "[CV] n_estimators=405, min_samples_split=5, min_samples_leaf=2, max_features=sqrt, max_depth=21 \n",
      "[CV]  n_estimators=405, min_samples_split=5, min_samples_leaf=2, max_features=sqrt, max_depth=21, total=   0.5s\n",
      "[CV] n_estimators=426, min_samples_split=2, min_samples_leaf=4, max_features=sqrt, max_depth=28 \n",
      "[CV]  n_estimators=426, min_samples_split=2, min_samples_leaf=4, max_features=sqrt, max_depth=28, total=   0.5s\n",
      "[CV] n_estimators=426, min_samples_split=2, min_samples_leaf=4, max_features=sqrt, max_depth=28 \n",
      "[CV]  n_estimators=426, min_samples_split=2, min_samples_leaf=4, max_features=sqrt, max_depth=28, total=   0.5s\n",
      "[CV] n_estimators=426, min_samples_split=2, min_samples_leaf=4, max_features=sqrt, max_depth=28 \n",
      "[CV]  n_estimators=426, min_samples_split=2, min_samples_leaf=4, max_features=sqrt, max_depth=28, total=   0.5s\n",
      "[CV] n_estimators=447, min_samples_split=5, min_samples_leaf=2, max_features=auto, max_depth=31 \n",
      "[CV]  n_estimators=447, min_samples_split=5, min_samples_leaf=2, max_features=auto, max_depth=31, total=   0.6s\n",
      "[CV] n_estimators=447, min_samples_split=5, min_samples_leaf=2, max_features=auto, max_depth=31 \n",
      "[CV]  n_estimators=447, min_samples_split=5, min_samples_leaf=2, max_features=auto, max_depth=31, total=   0.6s\n",
      "[CV] n_estimators=447, min_samples_split=5, min_samples_leaf=2, max_features=auto, max_depth=31 \n",
      "[CV]  n_estimators=447, min_samples_split=5, min_samples_leaf=2, max_features=auto, max_depth=31, total=   0.6s\n",
      "[CV] n_estimators=394, min_samples_split=5, min_samples_leaf=4, max_features=sqrt, max_depth=25 \n",
      "[CV]  n_estimators=394, min_samples_split=5, min_samples_leaf=4, max_features=sqrt, max_depth=25, total=   0.5s\n",
      "[CV] n_estimators=394, min_samples_split=5, min_samples_leaf=4, max_features=sqrt, max_depth=25 \n",
      "[CV]  n_estimators=394, min_samples_split=5, min_samples_leaf=4, max_features=sqrt, max_depth=25, total=   0.5s\n",
      "[CV] n_estimators=394, min_samples_split=5, min_samples_leaf=4, max_features=sqrt, max_depth=25 \n",
      "[CV]  n_estimators=394, min_samples_split=5, min_samples_leaf=4, max_features=sqrt, max_depth=25, total=   0.5s\n",
      "[CV] n_estimators=342, min_samples_split=2, min_samples_leaf=4, max_features=auto, max_depth=28 \n",
      "[CV]  n_estimators=342, min_samples_split=2, min_samples_leaf=4, max_features=auto, max_depth=28, total=   0.5s\n",
      "[CV] n_estimators=342, min_samples_split=2, min_samples_leaf=4, max_features=auto, max_depth=28 \n",
      "[CV]  n_estimators=342, min_samples_split=2, min_samples_leaf=4, max_features=auto, max_depth=28, total=   0.5s\n",
      "[CV] n_estimators=342, min_samples_split=2, min_samples_leaf=4, max_features=auto, max_depth=28 \n",
      "[CV]  n_estimators=342, min_samples_split=2, min_samples_leaf=4, max_features=auto, max_depth=28, total=   0.5s\n",
      "[CV] n_estimators=426, min_samples_split=3, min_samples_leaf=1, max_features=sqrt, max_depth=35 \n",
      "[CV]  n_estimators=426, min_samples_split=3, min_samples_leaf=1, max_features=sqrt, max_depth=35, total=   0.6s\n",
      "[CV] n_estimators=426, min_samples_split=3, min_samples_leaf=1, max_features=sqrt, max_depth=35 \n",
      "[CV]  n_estimators=426, min_samples_split=3, min_samples_leaf=1, max_features=sqrt, max_depth=35, total=   0.6s\n",
      "[CV] n_estimators=426, min_samples_split=3, min_samples_leaf=1, max_features=sqrt, max_depth=35 \n",
      "[CV]  n_estimators=426, min_samples_split=3, min_samples_leaf=1, max_features=sqrt, max_depth=35, total=   0.6s\n",
      "[CV] n_estimators=373, min_samples_split=5, min_samples_leaf=1, max_features=auto, max_depth=None \n",
      "[CV]  n_estimators=373, min_samples_split=5, min_samples_leaf=1, max_features=auto, max_depth=None, total=   0.5s\n",
      "[CV] n_estimators=373, min_samples_split=5, min_samples_leaf=1, max_features=auto, max_depth=None \n",
      "[CV]  n_estimators=373, min_samples_split=5, min_samples_leaf=1, max_features=auto, max_depth=None, total=   0.5s\n",
      "[CV] n_estimators=373, min_samples_split=5, min_samples_leaf=1, max_features=auto, max_depth=None \n",
      "[CV]  n_estimators=373, min_samples_split=5, min_samples_leaf=1, max_features=auto, max_depth=None, total=   0.6s\n",
      "[CV] n_estimators=426, min_samples_split=3, min_samples_leaf=4, max_features=auto, max_depth=31 \n",
      "[CV]  n_estimators=426, min_samples_split=3, min_samples_leaf=4, max_features=auto, max_depth=31, total=   0.6s\n",
      "[CV] n_estimators=426, min_samples_split=3, min_samples_leaf=4, max_features=auto, max_depth=31 \n",
      "[CV]  n_estimators=426, min_samples_split=3, min_samples_leaf=4, max_features=auto, max_depth=31, total=   0.6s\n",
      "[CV] n_estimators=426, min_samples_split=3, min_samples_leaf=4, max_features=auto, max_depth=31 \n",
      "[CV]  n_estimators=426, min_samples_split=3, min_samples_leaf=4, max_features=auto, max_depth=31, total=   0.6s\n",
      "[CV] n_estimators=478, min_samples_split=2, min_samples_leaf=4, max_features=auto, max_depth=21 \n",
      "[CV]  n_estimators=478, min_samples_split=2, min_samples_leaf=4, max_features=auto, max_depth=21, total=   0.7s\n",
      "[CV] n_estimators=478, min_samples_split=2, min_samples_leaf=4, max_features=auto, max_depth=21 \n",
      "[CV]  n_estimators=478, min_samples_split=2, min_samples_leaf=4, max_features=auto, max_depth=21, total=   0.7s\n",
      "[CV] n_estimators=478, min_samples_split=2, min_samples_leaf=4, max_features=auto, max_depth=21 \n",
      "[CV]  n_estimators=478, min_samples_split=2, min_samples_leaf=4, max_features=auto, max_depth=21, total=   0.7s\n",
      "[CV] n_estimators=500, min_samples_split=2, min_samples_leaf=4, max_features=auto, max_depth=35 \n",
      "[CV]  n_estimators=500, min_samples_split=2, min_samples_leaf=4, max_features=auto, max_depth=35, total=   0.6s\n",
      "[CV] n_estimators=500, min_samples_split=2, min_samples_leaf=4, max_features=auto, max_depth=35 \n",
      "[CV]  n_estimators=500, min_samples_split=2, min_samples_leaf=4, max_features=auto, max_depth=35, total=   0.6s\n",
      "[CV] n_estimators=500, min_samples_split=2, min_samples_leaf=4, max_features=auto, max_depth=35 \n",
      "[CV]  n_estimators=500, min_samples_split=2, min_samples_leaf=4, max_features=auto, max_depth=35, total=   0.6s\n",
      "[CV] n_estimators=342, min_samples_split=2, min_samples_leaf=4, max_features=auto, max_depth=15 \n",
      "[CV]  n_estimators=342, min_samples_split=2, min_samples_leaf=4, max_features=auto, max_depth=15, total=   0.5s\n",
      "[CV] n_estimators=342, min_samples_split=2, min_samples_leaf=4, max_features=auto, max_depth=15 \n",
      "[CV]  n_estimators=342, min_samples_split=2, min_samples_leaf=4, max_features=auto, max_depth=15, total=   0.5s\n",
      "[CV] n_estimators=342, min_samples_split=2, min_samples_leaf=4, max_features=auto, max_depth=15 \n",
      "[CV]  n_estimators=342, min_samples_split=2, min_samples_leaf=4, max_features=auto, max_depth=15, total=   0.5s\n",
      "[CV] n_estimators=457, min_samples_split=5, min_samples_leaf=2, max_features=auto, max_depth=35 \n",
      "[CV]  n_estimators=457, min_samples_split=5, min_samples_leaf=2, max_features=auto, max_depth=35, total=   0.6s\n",
      "[CV] n_estimators=457, min_samples_split=5, min_samples_leaf=2, max_features=auto, max_depth=35 \n",
      "[CV]  n_estimators=457, min_samples_split=5, min_samples_leaf=2, max_features=auto, max_depth=35, total=   0.6s\n",
      "[CV] n_estimators=457, min_samples_split=5, min_samples_leaf=2, max_features=auto, max_depth=35 \n",
      "[CV]  n_estimators=457, min_samples_split=5, min_samples_leaf=2, max_features=auto, max_depth=35, total=   0.6s\n",
      "[CV] n_estimators=415, min_samples_split=2, min_samples_leaf=2, max_features=sqrt, max_depth=None \n",
      "[CV]  n_estimators=415, min_samples_split=2, min_samples_leaf=2, max_features=sqrt, max_depth=None, total=   0.5s\n",
      "[CV] n_estimators=415, min_samples_split=2, min_samples_leaf=2, max_features=sqrt, max_depth=None \n",
      "[CV]  n_estimators=415, min_samples_split=2, min_samples_leaf=2, max_features=sqrt, max_depth=None, total=   0.5s\n",
      "[CV] n_estimators=415, min_samples_split=2, min_samples_leaf=2, max_features=sqrt, max_depth=None \n",
      "[CV]  n_estimators=415, min_samples_split=2, min_samples_leaf=2, max_features=sqrt, max_depth=None, total=   0.5s\n",
      "[CV] n_estimators=394, min_samples_split=3, min_samples_leaf=4, max_features=auto, max_depth=None \n",
      "[CV]  n_estimators=394, min_samples_split=3, min_samples_leaf=4, max_features=auto, max_depth=None, total=   0.5s\n",
      "[CV] n_estimators=394, min_samples_split=3, min_samples_leaf=4, max_features=auto, max_depth=None \n"
     ]
    },
    {
     "name": "stdout",
     "output_type": "stream",
     "text": [
      "[CV]  n_estimators=394, min_samples_split=3, min_samples_leaf=4, max_features=auto, max_depth=None, total=   0.6s\n",
      "[CV] n_estimators=394, min_samples_split=3, min_samples_leaf=4, max_features=auto, max_depth=None \n",
      "[CV]  n_estimators=394, min_samples_split=3, min_samples_leaf=4, max_features=auto, max_depth=None, total=   0.5s\n",
      "[CV] n_estimators=426, min_samples_split=3, min_samples_leaf=1, max_features=auto, max_depth=28 \n",
      "[CV]  n_estimators=426, min_samples_split=3, min_samples_leaf=1, max_features=auto, max_depth=28, total=   0.6s\n",
      "[CV] n_estimators=426, min_samples_split=3, min_samples_leaf=1, max_features=auto, max_depth=28 \n",
      "[CV]  n_estimators=426, min_samples_split=3, min_samples_leaf=1, max_features=auto, max_depth=28, total=   0.6s\n",
      "[CV] n_estimators=426, min_samples_split=3, min_samples_leaf=1, max_features=auto, max_depth=28 \n",
      "[CV]  n_estimators=426, min_samples_split=3, min_samples_leaf=1, max_features=auto, max_depth=28, total=   0.6s\n",
      "[CV] n_estimators=310, min_samples_split=2, min_samples_leaf=2, max_features=sqrt, max_depth=25 \n",
      "[CV]  n_estimators=310, min_samples_split=2, min_samples_leaf=2, max_features=sqrt, max_depth=25, total=   0.5s\n",
      "[CV] n_estimators=310, min_samples_split=2, min_samples_leaf=2, max_features=sqrt, max_depth=25 \n",
      "[CV]  n_estimators=310, min_samples_split=2, min_samples_leaf=2, max_features=sqrt, max_depth=25, total=   0.5s\n",
      "[CV] n_estimators=310, min_samples_split=2, min_samples_leaf=2, max_features=sqrt, max_depth=25 \n",
      "[CV]  n_estimators=310, min_samples_split=2, min_samples_leaf=2, max_features=sqrt, max_depth=25, total=   0.4s\n",
      "[CV] n_estimators=405, min_samples_split=3, min_samples_leaf=1, max_features=sqrt, max_depth=35 \n",
      "[CV]  n_estimators=405, min_samples_split=3, min_samples_leaf=1, max_features=sqrt, max_depth=35, total=   0.5s\n",
      "[CV] n_estimators=405, min_samples_split=3, min_samples_leaf=1, max_features=sqrt, max_depth=35 \n",
      "[CV]  n_estimators=405, min_samples_split=3, min_samples_leaf=1, max_features=sqrt, max_depth=35, total=   0.5s\n",
      "[CV] n_estimators=405, min_samples_split=3, min_samples_leaf=1, max_features=sqrt, max_depth=35 \n",
      "[CV]  n_estimators=405, min_samples_split=3, min_samples_leaf=1, max_features=sqrt, max_depth=35, total=   1.0s\n",
      "[CV] n_estimators=352, min_samples_split=3, min_samples_leaf=4, max_features=sqrt, max_depth=25 \n",
      "[CV]  n_estimators=352, min_samples_split=3, min_samples_leaf=4, max_features=sqrt, max_depth=25, total=   0.6s\n",
      "[CV] n_estimators=352, min_samples_split=3, min_samples_leaf=4, max_features=sqrt, max_depth=25 \n",
      "[CV]  n_estimators=352, min_samples_split=3, min_samples_leaf=4, max_features=sqrt, max_depth=25, total=   0.6s\n",
      "[CV] n_estimators=352, min_samples_split=3, min_samples_leaf=4, max_features=sqrt, max_depth=25 \n",
      "[CV]  n_estimators=352, min_samples_split=3, min_samples_leaf=4, max_features=sqrt, max_depth=25, total=   0.6s\n",
      "[CV] n_estimators=394, min_samples_split=5, min_samples_leaf=1, max_features=sqrt, max_depth=31 \n",
      "[CV]  n_estimators=394, min_samples_split=5, min_samples_leaf=1, max_features=sqrt, max_depth=31, total=   0.5s\n",
      "[CV] n_estimators=394, min_samples_split=5, min_samples_leaf=1, max_features=sqrt, max_depth=31 \n",
      "[CV]  n_estimators=394, min_samples_split=5, min_samples_leaf=1, max_features=sqrt, max_depth=31, total=   0.5s\n",
      "[CV] n_estimators=394, min_samples_split=5, min_samples_leaf=1, max_features=sqrt, max_depth=31 \n",
      "[CV]  n_estimators=394, min_samples_split=5, min_samples_leaf=1, max_features=sqrt, max_depth=31, total=   0.5s\n",
      "[CV] n_estimators=331, min_samples_split=2, min_samples_leaf=1, max_features=auto, max_depth=31 \n",
      "[CV]  n_estimators=331, min_samples_split=2, min_samples_leaf=1, max_features=auto, max_depth=31, total=   0.5s\n",
      "[CV] n_estimators=331, min_samples_split=2, min_samples_leaf=1, max_features=auto, max_depth=31 \n",
      "[CV]  n_estimators=331, min_samples_split=2, min_samples_leaf=1, max_features=auto, max_depth=31, total=   0.6s\n",
      "[CV] n_estimators=331, min_samples_split=2, min_samples_leaf=1, max_features=auto, max_depth=31 \n",
      "[CV]  n_estimators=331, min_samples_split=2, min_samples_leaf=1, max_features=auto, max_depth=31, total=   0.5s\n",
      "[CV] n_estimators=468, min_samples_split=5, min_samples_leaf=2, max_features=sqrt, max_depth=15 \n",
      "[CV]  n_estimators=468, min_samples_split=5, min_samples_leaf=2, max_features=sqrt, max_depth=15, total=   0.7s\n",
      "[CV] n_estimators=468, min_samples_split=5, min_samples_leaf=2, max_features=sqrt, max_depth=15 \n",
      "[CV]  n_estimators=468, min_samples_split=5, min_samples_leaf=2, max_features=sqrt, max_depth=15, total=   0.7s\n",
      "[CV] n_estimators=468, min_samples_split=5, min_samples_leaf=2, max_features=sqrt, max_depth=15 \n",
      "[CV]  n_estimators=468, min_samples_split=5, min_samples_leaf=2, max_features=sqrt, max_depth=15, total=   0.7s\n",
      "[CV] n_estimators=468, min_samples_split=5, min_samples_leaf=4, max_features=auto, max_depth=None \n",
      "[CV]  n_estimators=468, min_samples_split=5, min_samples_leaf=4, max_features=auto, max_depth=None, total=   0.7s\n",
      "[CV] n_estimators=468, min_samples_split=5, min_samples_leaf=4, max_features=auto, max_depth=None \n",
      "[CV]  n_estimators=468, min_samples_split=5, min_samples_leaf=4, max_features=auto, max_depth=None, total=   0.8s\n",
      "[CV] n_estimators=468, min_samples_split=5, min_samples_leaf=4, max_features=auto, max_depth=None \n",
      "[CV]  n_estimators=468, min_samples_split=5, min_samples_leaf=4, max_features=auto, max_depth=None, total=   0.7s\n",
      "[CV] n_estimators=436, min_samples_split=2, min_samples_leaf=4, max_features=auto, max_depth=25 \n",
      "[CV]  n_estimators=436, min_samples_split=2, min_samples_leaf=4, max_features=auto, max_depth=25, total=   0.7s\n",
      "[CV] n_estimators=436, min_samples_split=2, min_samples_leaf=4, max_features=auto, max_depth=25 \n",
      "[CV]  n_estimators=436, min_samples_split=2, min_samples_leaf=4, max_features=auto, max_depth=25, total=   0.7s\n",
      "[CV] n_estimators=436, min_samples_split=2, min_samples_leaf=4, max_features=auto, max_depth=25 \n",
      "[CV]  n_estimators=436, min_samples_split=2, min_samples_leaf=4, max_features=auto, max_depth=25, total=   0.9s\n"
     ]
    },
    {
     "name": "stderr",
     "output_type": "stream",
     "text": [
      "[Parallel(n_jobs=1)]: Done 150 out of 150 | elapsed:  1.6min finished\n"
     ]
    },
    {
     "data": {
      "text/plain": [
       "RandomizedSearchCV(cv=3,\n",
       "                   estimator=RandomForestRegressor(n_estimators=300, n_jobs=-1,\n",
       "                                                   random_state=42),\n",
       "                   n_iter=50,\n",
       "                   param_distributions={'max_depth': [15, 18, 21, 25, 28, 31,\n",
       "                                                      35, None],\n",
       "                                        'max_features': ['auto', 'sqrt'],\n",
       "                                        'min_samples_leaf': [1, 2, 4],\n",
       "                                        'min_samples_split': [2, 3, 5],\n",
       "                                        'n_estimators': [300, 310, 321, 331,\n",
       "                                                         342, 352, 363, 373,\n",
       "                                                         384, 394, 405, 415,\n",
       "                                                         426, 436, 447, 457,\n",
       "                                                         468, 478, 489, 500]},\n",
       "                   random_state=42, verbose=2)"
      ]
     },
     "execution_count": 148,
     "metadata": {},
     "output_type": "execute_result"
    }
   ],
   "source": [
    "rf_random = RandomizedSearchCV(estimator = random_model, param_distributions = random_grid, \n",
    "                                n_iter = 50, cv = 3, verbose=2, random_state=42)\n",
    "# Fit the random search model\n",
    "rf_random.fit(Xtrain, ytrain)"
   ]
  },
  {
   "cell_type": "markdown",
   "metadata": {},
   "source": [
    "### Just like this snippet, there will be numerous folds in this RandomizedSearchCV\n",
    "### Getting the best parameter out of it"
   ]
  },
  {
   "cell_type": "code",
   "execution_count": 149,
   "metadata": {},
   "outputs": [
    {
     "data": {
      "text/plain": [
       "{'n_estimators': 489,\n",
       " 'min_samples_split': 5,\n",
       " 'min_samples_leaf': 2,\n",
       " 'max_features': 'auto',\n",
       " 'max_depth': 21}"
      ]
     },
     "execution_count": 149,
     "metadata": {},
     "output_type": "execute_result"
    }
   ],
   "source": [
    "rf_random.best_params_"
   ]
  },
  {
   "cell_type": "code",
   "execution_count": 150,
   "metadata": {},
   "outputs": [],
   "source": [
    "# Creating a new model with tuned parameters\n",
    "random_new = RandomForestRegressor(n_estimators = 394, min_samples_split = 2, min_samples_leaf = 1, max_features = 'sqrt',\n",
    "                                      max_depth = 25, bootstrap = True)"
   ]
  },
  {
   "cell_type": "code",
   "execution_count": 151,
   "metadata": {},
   "outputs": [
    {
     "name": "stdout",
     "output_type": "stream",
     "text": [
      "98.13 %\n"
     ]
    }
   ],
   "source": [
    "#Fit\n",
    "random_new.fit(Xtrain, ytrain)\n",
    "y_pred1 = random_new.predict(Xtest)\n",
    "#Checking the accuracy\n",
    "random_model_accuracy1 = round(random_new.score(Xtrain, ytrain)*100,2)\n",
    "print(round(random_model_accuracy1, 2), '%')"
   ]
  },
  {
   "cell_type": "code",
   "execution_count": 152,
   "metadata": {},
   "outputs": [
    {
     "name": "stdout",
     "output_type": "stream",
     "text": [
      "79.67 %\n"
     ]
    }
   ],
   "source": [
    "# Rechecking the accuracy\n",
    "random_model_accuracy2 = round(random_new.score(Xtest, ytest)*100,2)\n",
    "print(round(random_model_accuracy2, 2), '%')"
   ]
  },
  {
   "cell_type": "code",
   "execution_count": 153,
   "metadata": {},
   "outputs": [],
   "source": [
    "# Saving the tuned model by pickle module using the serialized format\n",
    "saved_model = pickle.dump(random_new, open('ForestModel.pickle','wb'))\n"
   ]
  },
  {
   "cell_type": "markdown",
   "metadata": {},
   "source": [
    "##### One or more references that are I used to justify decisions that you made and cite any materials that I used are stated below\n",
    "- Book Research: forest Fire Prediction Using Machine Learning Techniques: A Systematic Literature Review\" by A. A. Alhussein, R. Khare, and M. S. Oliya.\n",
    "- Online Resources:ChatGPT, Kaggle Kernels: Explore notebooks and code shared by the data science community on various topics, including forest fire prediction. \n"
   ]
  },
  {
   "cell_type": "code",
   "execution_count": null,
   "metadata": {},
   "outputs": [],
   "source": []
  }
 ],
 "metadata": {
  "kernelspec": {
   "display_name": "Python 3",
   "language": "python",
   "name": "python3"
  },
  "language_info": {
   "codemirror_mode": {
    "name": "ipython",
    "version": 3
   },
   "file_extension": ".py",
   "mimetype": "text/x-python",
   "name": "python",
   "nbconvert_exporter": "python",
   "pygments_lexer": "ipython3",
   "version": "3.8.5"
  }
 },
 "nbformat": 4,
 "nbformat_minor": 4
}
