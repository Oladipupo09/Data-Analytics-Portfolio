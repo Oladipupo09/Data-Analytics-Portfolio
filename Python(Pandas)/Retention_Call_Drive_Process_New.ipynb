{
 "cells": [
  {
   "cell_type": "code",
   "execution_count": 1,
   "metadata": {},
   "outputs": [],
   "source": [
    "# importing four(BIGTABLE(Details),DARK REPORT(Dark),SEGMENTATION(df),OPEN CASES (Opcase)) tables needed for Retention daily Drive(3,18,34 days in dark) by reading all of the workbook into pandas)\n",
    "# importing table 'SEGMENTATION(df)' and read as pandas.....\n",
    "import pandas as pd\n",
    "\n",
    "df = pd.read_csv('segement.csv')"
   ]
  },
  {
   "cell_type": "code",
   "execution_count": 2,
   "metadata": {},
   "outputs": [
    {
     "name": "stderr",
     "output_type": "stream",
     "text": [
      "C:\\ProgramData\\Anaconda3\\lib\\site-packages\\IPython\\core\\interactiveshell.py:3146: DtypeWarning: Columns (32) have mixed types.Specify dtype option on import or set low_memory=False.\n",
      "  has_raised = await self.run_ast_nodes(code_ast.body, cell_name,\n"
     ]
    }
   ],
   "source": [
    "#importing table 'BIGTABLE(Details)'and read as pandas.....\n",
    "Details = pd.read_csv('Bigtable.csv',usecols = ['Full SFID','Contract Id','Type','Customer Signed By: Full Name','Customer Signed By: Phone','Customer: Secondary Phone number','Customer Warranty End Date','Price Book: Price Book Name','Contract Start Date','Status','StatusII','Customer Status'])"
   ]
  },
  {
   "cell_type": "code",
   "execution_count": 3,
   "metadata": {},
   "outputs": [],
   "source": [
    "#importing table 'OPEN CASES (Opcase)'and read as pandas....\n",
    "Opcase = pd.read_csv('Legal_FS_Open_Case.csv')"
   ]
  },
  {
   "cell_type": "code",
   "execution_count": 4,
   "metadata": {},
   "outputs": [],
   "source": [
    "#importing table 'DARK REPORT'(Dark) and read as pandas.....\n",
    "#Reading the required excel sheets and columns from the BI Daily Reports. The selected columns are considered valid for the required task\n",
    "r1 = pd.read_excel('BI NG daily reports of 2022-11-30.xlsx', 'Contracts', usecols = ['Contract','generation','LTOperiod','LTOunits','type'])\n",
    "\n",
    "r2 = pd.read_excel('BI NG daily reports of 2022-11-30.xlsx','Sps Contracts', usecols = ['Contract','activation_start','activation_end'])\n",
    "\n",
    "r3 = pd.read_excel('BI NG daily reports of 2022-11-30.xlsx','Contracts per PaidPeriod', usecols = ['Contract','PaidPeriods'])\n",
    "\n",
    "r4 = pd.read_excel('BI NG daily reports of 2022-11-30.xlsx','CRM contracts', names = ['Contract','CRMcontract'])\n",
    "\n",
    "r5 = pd.read_excel('BI NG daily reports of 2022-11-30.xlsx','Last payments', usecols = ['Contract','payment_date','activation_end'])\n",
    "\n",
    "r5.columns = ['Contract','last_payment_date','lastpayment_activation_end']"
   ]
  },
  {
   "cell_type": "code",
   "execution_count": 5,
   "metadata": {},
   "outputs": [],
   "source": [
    "r2['activation_start'] = pd.to_datetime(r2['activation_start']).dt.normalize()\n",
    "r2['activation_end'] = pd.to_datetime(r2['activation_end']).dt.normalize()\n",
    "r5['last_payment_date'] = pd.to_datetime(r5['last_payment_date']).dt.normalize()\n",
    "r5['lastpayment_activation_end'] = pd.to_datetime(r5['lastpayment_activation_end']).dt.normalize()\n"
   ]
  },
  {
   "cell_type": "code",
   "execution_count": 6,
   "metadata": {},
   "outputs": [],
   "source": [
    "check1 = pd.merge(pd.merge(pd.merge(pd.merge(r1, r2, how='left', on='Contract'), r3, how='left', on='Contract'), r4, how='left', on='Contract'), r5, how='left', on='Contract')\n",
    "check1 = pd.merge(check1, Details, how='left', left_on='CRMcontract', right_on='Contract Id')\n",
    "\n",
    "check1 = pd.merge(pd.merge(check1, df[['Contract Id','Potential Grouping Other']], how='left', left_on='CRMcontract', right_on='Contract Id'), Opcase[['Contract: Full SFID','Department','Subject']], how='left', left_on='Contract', right_on='Contract: Full SFID')\n",
    "\n",
    "check1 = check1[check1['Type'] == 'Production']\n",
    "\n",
    "check1[\"ref_activation_end\"] = check1[[\"activation_end\",\"lastpayment_activation_end\"]].max(axis=1)\n",
    "\n",
    "check1['ref_activation_end'] = check1['ref_activation_end'].fillna('1900-01-01')\n",
    "\n",
    "check1['ref_activation_end'] = pd.to_datetime(check1['ref_activation_end']).dt.normalize()"
   ]
  },
  {
   "cell_type": "code",
   "execution_count": 7,
   "metadata": {},
   "outputs": [],
   "source": [
    "import pandas as pd\n",
    "import datetime as date\n",
    "from datetime import date\n",
    "from datetime import timedelta\n",
    "\n",
    "today = pd.to_datetime('today').normalize() - timedelta(days=1)\n",
    "\n",
    "check1['Outage_days'] = (check1['ref_activation_end'] - today).dt.days"
   ]
  },
  {
   "cell_type": "code",
   "execution_count": 8,
   "metadata": {},
   "outputs": [],
   "source": [
    "#Contract Start Date\n",
    "# A date format was applied to both ContractCreation and Customer Warranty End Date. \n",
    "# Also normalized by removing the time stamp\n",
    "check1['Customer Warranty End Date'] = pd.to_datetime(check1['Customer Warranty End Date'], format='%d/%m/%Y')\n",
    "\n",
    "check1['Contract Start Date'] = pd.to_datetime(check1['Contract Start Date'], format='%d/%m/%Y')\n"
   ]
  },
  {
   "cell_type": "code",
   "execution_count": 9,
   "metadata": {},
   "outputs": [],
   "source": [
    "#Applying  elif conditional statement to achieved customer within and outside warranty. \n",
    "#inaddition, to avoid timestamp and stir error date was converted datetime in pandas \n",
    "import datetime as date\n",
    "\n",
    "check = pd.to_datetime('01/10/2022')\n",
    "\n",
    "def warranty(i):\n",
    "    if i >= check:\n",
    "        return 'Within Warranty'\n",
    "    elif i == ' ':\n",
    "        return 'N/A'\n",
    "    else:\n",
    "        return 'Outside Warranty'\n",
    "    \n",
    "\n",
    "check1['Warranty Status'] = check1['Customer Warranty End Date'].apply(warranty)"
   ]
  },
  {
   "cell_type": "code",
   "execution_count": 10,
   "metadata": {},
   "outputs": [],
   "source": [
    "import numpy as np\n",
    "filters = [\n",
    "   (check1['Price Book: Price Book Name'].str.contains(\"NWO\") == True)\n",
    "]\n",
    "values = ['LCP']\n",
    "\n",
    "check1[\"lcp_status\"] = np.select(filters, values, default='Non-LCP')"
   ]
  },
  {
   "cell_type": "code",
   "execution_count": 11,
   "metadata": {},
   "outputs": [],
   "source": [
    "# Using filters as conditional statement on Join2 coloumn='Days_in_Dark' to achieved the exact numbers of required dark days in sentence for report.\n",
    "# However, an other coloumns='Dark_Days' was created on the table to identify the required dark days\n",
    "import numpy as np\n",
    "\n",
    "filters = [\n",
    "    (check1.Outage_days == -1),\n",
    "   (check1.Outage_days == -3),\n",
    "   (check1.Outage_days == -18),\n",
    "   (check1.Outage_days == -34)\n",
    "]\n",
    "values = ['1 DarkDay','3 DarkDays', '18 DarkDays', '34 DarkDays']\n",
    "\n",
    "check1[\"Dark_Days\"] = np.select(filters, values, default= check1['Outage_days'])"
   ]
  },
  {
   "cell_type": "code",
   "execution_count": 12,
   "metadata": {},
   "outputs": [],
   "source": [
    "# Using filters as conditional statement on Join2 coloumn='Department' to achieved the required Open cases Pool Status(CSS Pool, FS Pool, Legal Pool) in sentence for report.\n",
    "# However, an other coloumns='Pool Status' was created on the table to identify the required Customer open cases Pool\n",
    "filters = [\n",
    "   (check1.Department == 'NG Legal'),\n",
    "   (check1.Department == 'NG FS') & (check1.Subject == 'Requests / Cancel membership')\n",
    "]\n",
    "values = ['Legal Pool', 'FS Pool']\n",
    "\n",
    "\n",
    "check1[\"Pool Status\"] = np.select(filters, values, default= 'CSS Pool')"
   ]
  },
  {
   "cell_type": "code",
   "execution_count": 13,
   "metadata": {},
   "outputs": [],
   "source": [
    "#Rearrangement of entire coloumns header to suit the report requirement [Contract Short Num\tConsecutive No Activity Days\teula_free_to_use_days\tCustomer name\tPayer number\tSecondary Number\tContract Model Type\tContract Start Date\tGeneration\tDark Days\tWarranty End Date\tWarranty Status @as 1st Nov'21\tPool Status\tCustomer Segmentation]\n",
    "# However, a new variable Join3 was created via Join2 variable. \n",
    "\n",
    "check2 = check1[['CRMcontract','Outage_days','LTOperiod','Type','Customer Signed By: Full Name','Customer Signed By: Phone',\n",
    "               'Customer: Secondary Phone number','type','Contract Start Date','generation','Dark_Days','Customer Warranty End Date',\n",
    "               'Warranty Status','Pool Status','Potential Grouping Other','Price Book: Price Book Name','Status','StatusII','Customer Status']]"
   ]
  },
  {
   "cell_type": "code",
   "execution_count": 14,
   "metadata": {},
   "outputs": [],
   "source": [
    "# Selection of the exact dark days('-3','-18','-34') and contract type('production') from Join3 variable table\n",
    "check3 = check2[((check2['Outage_days'] == -1) | (check2['Outage_days'] == -3) | (check2['Outage_days'] == -18) | (check2['Outage_days'] == -34)) & ((check2['Price Book: Price Book Name'] != 'Direct-NG (NWO)') & (check2['Status'] != 'Cancelled') & (check2['StatusII'] != 'Freeing') & (check2['Customer Status'] != 'Owner') & (check2['Status'] != 'Canceled') & (check2['StatusII'] != 'Free') & (check2['Type'] == 'Production'))]\n",
    "\n",
    "    \n",
    "check3.columns = ['Contract Short Num','Consecutive No Activity Days','Type','Eula_Free_to_Use_Days','Customer Name',\n",
    "               'Payer Number','Secondary Number','Contract Model Type','Contract Start Date','Generation','Dark Days',\n",
    "               'Warranty End Date','Warranty Status','Pool Status','Customer Segmentation','Price Book: Price Book Name','Status','StatusII','Customer Status']"
   ]
  },
  {
   "cell_type": "code",
   "execution_count": 15,
   "metadata": {},
   "outputs": [
    {
     "name": "stderr",
     "output_type": "stream",
     "text": [
      "C:\\ProgramData\\Anaconda3\\lib\\site-packages\\pandas\\core\\frame.py:4163: SettingWithCopyWarning: \n",
      "A value is trying to be set on a copy of a slice from a DataFrame\n",
      "\n",
      "See the caveats in the documentation: https://pandas.pydata.org/pandas-docs/stable/user_guide/indexing.html#returning-a-view-versus-a-copy\n",
      "  return super().drop(\n"
     ]
    }
   ],
   "source": [
    "# dropping the coloumn=\"type\" which is not needed in the table.\n",
    "check3.drop('Type', axis = 1, inplace=True)\n",
    "check3.drop('Price Book: Price Book Name', axis = 1, inplace=True)\n",
    "check3.drop('Status', axis = 1, inplace=True)\n",
    "check3.drop('StatusII', axis = 1, inplace=True)\n",
    "check3.drop('Customer Status', axis = 1, inplace=True)"
   ]
  },
  {
   "cell_type": "code",
   "execution_count": 16,
   "metadata": {},
   "outputs": [],
   "source": [
    "# writing the final output into an excel file\n",
    "check3.to_excel('Retention Call Drive New.xlsx')"
   ]
  },
  {
   "cell_type": "code",
   "execution_count": 17,
   "metadata": {},
   "outputs": [
    {
     "data": {
      "text/plain": [
       "Generation  Dark Days  \n",
       "LEGACY      1 DarkDay      1175\n",
       "            18 DarkDays     173\n",
       "            3 DarkDays      614\n",
       "            34 DarkDays      94\n",
       "UNIFIED     1 DarkDay        52\n",
       "            18 DarkDays      35\n",
       "            3 DarkDays       62\n",
       "            34 DarkDays      17\n",
       "Name: Contract Short Num, dtype: int64"
      ]
     },
     "execution_count": 17,
     "metadata": {},
     "output_type": "execute_result"
    }
   ],
   "source": [
    "# grouped by Generation and Dark days to get summary counts\n",
    "check3.groupby(['Generation','Dark Days']).count()['Contract Short Num']"
   ]
  }
 ],
 "metadata": {
  "kernelspec": {
   "display_name": "Python 3",
   "language": "python",
   "name": "python3"
  },
  "language_info": {
   "codemirror_mode": {
    "name": "ipython",
    "version": 3
   },
   "file_extension": ".py",
   "mimetype": "text/x-python",
   "name": "python",
   "nbconvert_exporter": "python",
   "pygments_lexer": "ipython3",
   "version": "3.8.5"
  }
 },
 "nbformat": 4,
 "nbformat_minor": 4
}
