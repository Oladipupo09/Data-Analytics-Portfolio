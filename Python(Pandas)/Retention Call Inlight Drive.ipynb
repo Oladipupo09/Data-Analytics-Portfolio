{
 "cells": [
  {
   "cell_type": "markdown",
   "metadata": {},
   "source": [
    "# Retention Call Inlight Drive "
   ]
  },
  {
   "cell_type": "code",
   "execution_count": 1,
   "metadata": {},
   "outputs": [],
   "source": [
    "import pandas as pd\n",
    "\n",
    "SG = pd.read_csv('segement.csv')"
   ]
  },
  {
   "cell_type": "code",
   "execution_count": 2,
   "metadata": {},
   "outputs": [
    {
     "name": "stderr",
     "output_type": "stream",
     "text": [
      "C:\\ProgramData\\Anaconda3\\lib\\site-packages\\IPython\\core\\interactiveshell.py:3146: DtypeWarning: Columns (32) have mixed types.Specify dtype option on import or set low_memory=False.\n",
      "  has_raised = await self.run_ast_nodes(code_ast.body, cell_name,\n"
     ]
    }
   ],
   "source": [
    "#importing table 'BIGTABLE(Details)'and read as pandas.....\n",
    "BT = pd.read_csv('Bigtable.csv',usecols = ['Full SFID','Contract Id','Type','Customer Signed By: Full Name','Customer Signed By: Phone','Customer: Secondary Phone number','Customer Warranty End Date','Price Book: Price Book Name'])"
   ]
  },
  {
   "cell_type": "code",
   "execution_count": 3,
   "metadata": {},
   "outputs": [],
   "source": [
    "Light = pd.read_csv('Light_Report.csv',usecols = ['contract_id','Days_in_light','LTOperiod','type','generation','ContractCreation'])"
   ]
  },
  {
   "cell_type": "code",
   "execution_count": 4,
   "metadata": {},
   "outputs": [],
   "source": [
    "join = pd.merge(Light, BT, how='left',left_on='contract_id', right_on='Full SFID')"
   ]
  },
  {
   "cell_type": "code",
   "execution_count": 5,
   "metadata": {},
   "outputs": [],
   "source": [
    "join1 = pd.merge(join, SG[['Contract Id','Potential Grouping Other']], how='left', on='Contract Id')"
   ]
  },
  {
   "cell_type": "code",
   "execution_count": 6,
   "metadata": {},
   "outputs": [],
   "source": [
    "join1['Customer Warranty End Date'] = pd.to_datetime(join1['Customer Warranty End Date'], format='%d/%m/%Y')\n",
    "\n",
    "join1['ContractCreation'] = pd.to_datetime(join1['ContractCreation'], format='%Y/%m/%d')\n",
    "\n",
    "join1['ContractCreation'] = pd.to_datetime(join1['ContractCreation']).dt.normalize()"
   ]
  },
  {
   "cell_type": "code",
   "execution_count": 7,
   "metadata": {},
   "outputs": [],
   "source": [
    "import datetime as date\n",
    "\n",
    "check = pd.to_datetime('01/06/2022')\n",
    "\n",
    "def warranty(i):\n",
    "    if i >= check:\n",
    "        return 'Within Warranty'\n",
    "    elif i == ' ':\n",
    "        return 'N/A'\n",
    "    else:\n",
    "        return 'Outside Warranty'\n",
    "    \n",
    "\n",
    "join1['Warranty Status'] = join1['Customer Warranty End Date'].apply(warranty)"
   ]
  },
  {
   "cell_type": "code",
   "execution_count": 8,
   "metadata": {},
   "outputs": [],
   "source": [
    "import numpy as np\n",
    "\n",
    "filters = [\n",
    "   (join1.Days_in_light == 1),\n",
    "   (join1.Days_in_light == 2),\n",
    "   (join1.Days_in_light == 3),\n",
    "   (join1.Days_in_light == 5)\n",
    "]\n",
    "values = ['1 LightDays', '2 LightDays', '3 LightDays','5 LightDays']\n",
    "\n",
    "join1[\"Light_Days\"] = np.select(filters, values, default= join1['Days_in_light'])"
   ]
  },
  {
   "cell_type": "code",
   "execution_count": 9,
   "metadata": {},
   "outputs": [],
   "source": [
    "join2 = join1[['Contract Id','Days_in_light','LTOperiod','Type','Customer Signed By: Full Name','Customer Signed By: Phone',\n",
    "               'Customer: Secondary Phone number','type','ContractCreation','generation','Light_Days','Customer Warranty End Date',\n",
    "               'Warranty Status','Potential Grouping Other']]"
   ]
  },
  {
   "cell_type": "code",
   "execution_count": 10,
   "metadata": {},
   "outputs": [],
   "source": [
    "join2 = join2[((join2['Days_in_light'] == 1) | (join2['Days_in_light'] == 2) | (join2['Days_in_light'] == 3) | (join2['Days_in_light'] == 5)) & ((join2['Potential Grouping Other'] == 'Good') & (join2['Type'] == 'Production'))]\n",
    "\n",
    "\n",
    "join2.columns = ['Contract Short Num','Consecutive No Activity Days','Eula_Free_to_Use_Days','Type','Customer Name',\n",
    "               'Payer Number','Secondary Number','Contract Model Type','Contract Start Date','Generation','Light Days',\n",
    "               'Warranty End Date','Warranty Status','Customer Segmentation']\n"
   ]
  },
  {
   "cell_type": "code",
   "execution_count": 11,
   "metadata": {},
   "outputs": [],
   "source": [
    "join2.drop('Type', axis = 1, inplace=True)"
   ]
  },
  {
   "cell_type": "code",
   "execution_count": 12,
   "metadata": {},
   "outputs": [],
   "source": [
    "join2.to_excel('Retention Call Inlight Drive.xlsx')"
   ]
  },
  {
   "cell_type": "code",
   "execution_count": 13,
   "metadata": {},
   "outputs": [
    {
     "data": {
      "text/plain": [
       "Generation  Light Days \n",
       "LEGACY      1 LightDays    182\n",
       "            2 LightDays    179\n",
       "            3 LightDays    209\n",
       "            5 LightDays    219\n",
       "UNIFIED     1 LightDays    131\n",
       "            2 LightDays    176\n",
       "            3 LightDays    228\n",
       "            5 LightDays    298\n",
       "Name: Contract Short Num, dtype: int64"
      ]
     },
     "execution_count": 13,
     "metadata": {},
     "output_type": "execute_result"
    }
   ],
   "source": [
    "join2.groupby(['Generation','Light Days']).count()['Contract Short Num']"
   ]
  },
  {
   "cell_type": "code",
   "execution_count": null,
   "metadata": {},
   "outputs": [],
   "source": []
  }
 ],
 "metadata": {
  "kernelspec": {
   "display_name": "Python 3",
   "language": "python",
   "name": "python3"
  },
  "language_info": {
   "codemirror_mode": {
    "name": "ipython",
    "version": 3
   },
   "file_extension": ".py",
   "mimetype": "text/x-python",
   "name": "python",
   "nbconvert_exporter": "python",
   "pygments_lexer": "ipython3",
   "version": "3.8.5"
  }
 },
 "nbformat": 4,
 "nbformat_minor": 4
}
