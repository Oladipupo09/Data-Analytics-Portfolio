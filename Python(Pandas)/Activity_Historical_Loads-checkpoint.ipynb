{
 "cells": [
  {
   "cell_type": "code",
   "execution_count": 1,
   "metadata": {},
   "outputs": [],
   "source": [
    "import pandas as pd\n",
    "\n",
    "#Reading the required excel sheets and columns from the BI Daily Reports. The selected columns are considered valid for the required task\n",
    "r1 = pd.read_excel('BI NG daily reports of 2022-02-28.xlsx','Contracts')\n",
    "\n",
    "r2 = pd.read_excel('BI NG daily reports of 2022-02-28.xlsx','Sps Contracts', usecols = ['Contract','SpsId','activation_start','activation_end'])\n",
    "\n",
    "r3 = pd.read_excel('BI NG daily reports of 2022-02-28.xlsx','Contracts per PaidPeriod')\n",
    "\n",
    "r4 = pd.read_excel('BI NG daily reports of 2022-02-28.xlsx','CRM contracts', names = ['Contract','CRMcontract'])\n",
    "\n",
    "r5 = pd.read_excel('BI NG daily reports of 2022-02-28.xlsx','Last payments', usecols = ['Contract','payment_date','activation_end'])\n",
    "\n",
    "r5.columns = ['Contract','last_payment_date','lastpayment_activation_end']\n",
    "\n",
    "big_table = pd.read_csv(\"Bigtable_Feb'22.csv\", usecols = ['Full SFID','Type','Status','StatusII','Product Name','Customer Status'], encoding='windows-1252')\n",
    "\n",
    "big_table.columns = ['Contract','Status','StatusII','Type','Customer Status','Product Name']"
   ]
  },
  {
   "cell_type": "code",
   "execution_count": 4,
   "metadata": {},
   "outputs": [],
   "source": [
    "r1['ContractCreation'] = pd.to_datetime(r1['ContractCreation']).dt.normalize()\n",
    "r2['activation_start'] = pd.to_datetime(r2['activation_start']).dt.normalize()\n",
    "r2['activation_end'] = pd.to_datetime(r2['activation_end']).dt.normalize()\n",
    "r5['last_payment_date'] = pd.to_datetime(r5['last_payment_date']).dt.normalize()\n",
    "r5['lastpayment_activation_end'] = pd.to_datetime(r5['lastpayment_activation_end'], errors = 'coerce').dt.normalize()"
   ]
  },
  {
   "cell_type": "code",
   "execution_count": 5,
   "metadata": {},
   "outputs": [],
   "source": [
    "check1 = pd.merge(pd.merge(pd.merge(pd.merge(pd.merge(r1, r2, how='left', on='Contract'), r3, how='left', on='Contract'), r4, how='left', on='Contract'), r5, how='left', on='Contract'), big_table, how='left', on='Contract') \n",
    "\n",
    "check1 = check1[check1['Type'] == 'Production']"
   ]
  },
  {
   "cell_type": "code",
   "execution_count": 6,
   "metadata": {},
   "outputs": [],
   "source": [
    "#join1.isnull().sum().sort_values(ascending = False)\n",
    "check1[\"ref_activation_end\"] = check1[[\"activation_end\",\"lastpayment_activation_end\"]].max(axis=1)\n",
    "\n",
    "check1['ref_activation_end'] = check1['ref_activation_end'].fillna('1900-01-01')\n",
    "\n",
    "#check1['outage_days'] = (check1['ref_activation_end'] - to_day).dt.days"
   ]
  },
  {
   "cell_type": "code",
   "execution_count": 7,
   "metadata": {},
   "outputs": [],
   "source": [
    "import datetime as date\n",
    "from datetime import date\n",
    "from datetime import timedelta\n",
    "\n",
    "to_day = pd.to_datetime('2022-02-28').normalize()\n",
    "\n",
    "check1['outage_days'] = (check1['ref_activation_end'] - to_day).dt.days"
   ]
  },
  {
   "cell_type": "code",
   "execution_count": 8,
   "metadata": {},
   "outputs": [],
   "source": [
    "import numpy as np\n",
    "\n",
    "check1[\"old_active_status\"] = np.where(\n",
    "   (check1.outage_days > -60), \n",
    "   \"Active\", \n",
    "   \"Churn\"\n",
    "    )"
   ]
  },
  {
   "cell_type": "code",
   "execution_count": 9,
   "metadata": {},
   "outputs": [],
   "source": [
    "check1['new_active_status'] = (\n",
    "    np.where(\n",
    "        check1['outage_days'] > -11, \n",
    "        'Paid', \n",
    "        np.where(check1['outage_days'] < -40, \n",
    "                 'Retrieval',\n",
    "                np.where(check1['outage_days'] < -10, \n",
    "                        'Recovery', 'Unavailable'))))\n",
    "\n",
    "\n",
    "check1['Product Name'] = check1['Product Name'].fillna('null')"
   ]
  },
  {
   "cell_type": "code",
   "execution_count": 10,
   "metadata": {},
   "outputs": [],
   "source": [
    "check1[\"light_status\"] = np.where(\n",
    "   (check1.outage_days >= 0),\n",
    "   \"InLight\", \n",
    "   \"InDark\"\n",
    "    )"
   ]
  },
  {
   "cell_type": "code",
   "execution_count": 11,
   "metadata": {},
   "outputs": [],
   "source": [
    "check1[\"age\"] = np.where(\n",
    "   (check1.LTOunits == 'MONTHS'),\n",
    "   (to_day - check1['ContractCreation']).dt.days/30.4, \n",
    "   (to_day - check1['ContractCreation']).dt.days\n",
    "    )"
   ]
  },
  {
   "cell_type": "code",
   "execution_count": 12,
   "metadata": {},
   "outputs": [],
   "source": [
    "import numpy as np\n",
    "\n",
    "check1[\"segmentation_score\"] = (check1['PaidPeriods']/check1['age'])*100\n",
    "\n",
    "\n",
    "filters = [\n",
    "   (check1.PaidPeriods > 0) & (check1.age == 0)\n",
    "]\n",
    "values = [100]\n",
    "\n",
    "check1[\"segmentation_score\"] = np.select(filters, values, default = check1.segmentation_score)\n",
    "\n",
    "\n",
    "check1.replace([np.inf, -np.inf], np.nan,  inplace=True)"
   ]
  },
  {
   "cell_type": "code",
   "execution_count": 13,
   "metadata": {},
   "outputs": [],
   "source": [
    "check1[\"lto_segment\"] = np.where(\n",
    "   (check1.LTOperiod >= check1.age), \n",
    "   \"Within_LTO\", \n",
    "   \"Outside_LTO\"\n",
    ")\n"
   ]
  },
  {
   "cell_type": "code",
   "execution_count": 14,
   "metadata": {},
   "outputs": [],
   "source": [
    "filters = [\n",
    "   (check1.segmentation_score >= 100),\n",
    "   (check1.segmentation_score < 100) & (check1.segmentation_score >= 80),\n",
    "   (check1.segmentation_score < 80) & (check1.segmentation_score >= 41)\n",
    "]\n",
    "values = ['Good', 'Fair', 'Challenging']\n",
    "\n",
    "check1[\"segmentation_status\"] = np.select(filters, values, default = 'Bad')"
   ]
  },
  {
   "cell_type": "code",
   "execution_count": 15,
   "metadata": {},
   "outputs": [],
   "source": [
    "filters = [\n",
    "   (check1['Product Name'].str.contains(\"NWO\", case=False))\n",
    "]\n",
    "values = ['LCP']\n",
    "\n",
    "check1[\"lcp_status\"] = np.select(filters, values, default='Non-LCP')"
   ]
  },
  {
   "cell_type": "code",
   "execution_count": 16,
   "metadata": {},
   "outputs": [],
   "source": [
    "filters = [\n",
    "   (check1.generation == 'LEGACY') & ((check1.age/30.4) >= 5),\n",
    "   (check1.generation == 'UNIFIED') & (check1.age >= 5)\n",
    "]\n",
    "values = ['Pre-Existing','Pre-Existing']\n",
    "\n",
    "check1[\"age_segment\"] = np.select(filters, values, default = 'New')"
   ]
  },
  {
   "cell_type": "code",
   "execution_count": 17,
   "metadata": {},
   "outputs": [],
   "source": [
    "filters = [\n",
    "   (check1.Status == 'Cancelled') | (check1.Status == 'Canceled'),\n",
    "   (check1.StatusII == 'Free') | (check1.StatusII == 'Freeing'),\n",
    "   (check1['Customer Status'] == 'Owner'),\n",
    "   (check1.FreeStatus == 'FREE'),\n",
    "   (check1.PaidPeriods == check1.LTOperiod)\n",
    "]\n",
    "values = ['Cancelled','Owner','Owner','Owner','Owner']\n",
    "\n",
    "check1[\"customer_status\"] = np.select(filters, values, default= check1.new_active_status)"
   ]
  },
  {
   "cell_type": "code",
   "execution_count": 18,
   "metadata": {},
   "outputs": [],
   "source": [
    "check1['FreeStatus'] = check1['FreeStatus'].fillna('null')\n",
    "check1['SpsId'] = check1['SpsId'].fillna(0)\n",
    "check1['StatusII'] = check1['StatusII'].fillna('null')\n",
    "check1['Customer Status'] = check1['Customer Status'].fillna('null')\n",
    "check1['segmentation_score'] = check1['segmentation_score'].fillna(0)\n",
    "check1['PaidPeriods'] = check1['PaidPeriods'].fillna(0)\n",
    "check1['lastpayment_activation_end'] = check1['lastpayment_activation_end'].fillna('1900-01-01')\n",
    "check1['last_payment_date'] = check1['last_payment_date'].fillna('1900-01-01')\n",
    "check1['activation_start'] = check1['activation_start'].fillna('1900-01-01')\n",
    "check1['activation_end'] = check1['activation_end'].fillna('1900-01-01')"
   ]
  },
  {
   "cell_type": "code",
   "execution_count": 19,
   "metadata": {},
   "outputs": [],
   "source": [
    "filters = [\n",
    "   (check1.customer_status == 'Cancelled'),\n",
    "   (check1.customer_status == 'Owner'),\n",
    "   (check1.PaidPeriods == check1.LTOperiod)\n",
    "]\n",
    "values = ['Cancelled','Owner','Owner']\n",
    "\n",
    "check1[\"old_active_status\"] = np.select(filters, values, default= check1.old_active_status)"
   ]
  },
  {
   "cell_type": "code",
   "execution_count": 20,
   "metadata": {},
   "outputs": [],
   "source": [
    "check1 = check1.drop(['LTOunits','activation_end','FreeStatus','Type','Status','StatusII','new_active_status','Customer Status','lastpayment_activation_end'], axis=1)"
   ]
  },
  {
   "cell_type": "code",
   "execution_count": 21,
   "metadata": {},
   "outputs": [
    {
     "name": "stdout",
     "output_type": "stream",
     "text": [
      "You're connected to lumos_bi_ng database:  ('lumos_bi_ng',)\n",
      "activity_feb22 is created....\n",
      "activity table completely loaded\n"
     ]
    }
   ],
   "source": [
    "import mysql.connector as msql\n",
    "from mysql.connector import Error\n",
    "\n",
    "try:\n",
    "    conn = msql.connect(host='localhost', \n",
    "                           database='lumos_bi_ng', user='root', \n",
    "                           password='', port='3306')\n",
    "    if conn.is_connected():\n",
    "        cursor = conn.cursor()\n",
    "        cursor.execute(\"select database();\")\n",
    "        record = cursor.fetchone()\n",
    "        print(\"You're connected to lumos_bi_ng database: \", record)\n",
    "        cursor.execute('DROP TABLE IF EXISTS activity_feb22;')\n",
    "        #print('Creating table....')\n",
    "        cursor.execute(\"CREATE TABLE activity_feb22 (contract VARCHAR(50) NULL,reportdate DATE NULL,sales_channel VARCHAR(20) NULL,generation VARCHAR(20) NULL,type VARCHAR(20) NULL,ltoperiod BIGINT NULL,contract_creation DATE NULL,spsid BIGINT NULL,activation_start DATE NULL,paidperiod BIGINT NULL,crmcontract BIGINT NULL,last_payment_date DATE NULL,product_name VARCHAR(100) NULL,ref_activation_end DATE NULL,outage_days BIGINT NULL,old_active_status VARCHAR(15) NULL,light_status VARCHAR(10) NULL,age FLOAT NULL,segmentation_score FLOAT NULL,lto_segment VARCHAR(20) NULL,segmentation_status VARCHAR(20) NULL,lcp_status VARCHAR(20) NULL,age_segment VARCHAR(20) NULL,customer_status VARCHAR(20) NULL)\")\n",
    "        print(\"activity_feb22 is created....\")\n",
    "        for i,row in check1.iterrows():\n",
    "            sql = \"INSERT INTO lumos_bi_ng.activity_feb22 VALUES (%s,%s,%s,%s,%s,%s,%s,%s,%s,%s,%s,%s,%s,%s,%s,%s,%s,%s,%s,%s,%s,%s,%s,%s)\"\n",
    "            cursor.execute(sql, tuple(row))\n",
    "            chunksize = 10000\n",
    "            #print(\"Record inserted\")\n",
    "            # the connection is not autocommitted by default, so we must commit to save our changes\n",
    "            conn.commit()\n",
    "except Error as e:\n",
    "    print(\"Error while connecting to MySQL\", e)\n",
    "    \n",
    "print(\"activity table completely loaded\")"
   ]
  },
  {
   "cell_type": "code",
   "execution_count": 22,
   "metadata": {},
   "outputs": [
    {
     "data": {
      "text/plain": [
       "old_active_status\n",
       "Active       92601\n",
       "Cancelled    27141\n",
       "Churn        60527\n",
       "Owner        10572\n",
       "Name: Contract, dtype: int64"
      ]
     },
     "execution_count": 22,
     "metadata": {},
     "output_type": "execute_result"
    }
   ],
   "source": [
    "#check1.isnull().sum().sort_values(ascending = False)\n",
    "#check1.groupby(['old_active_status']).count()['Contract']\n",
    "#check1.info()"
   ]
  },
  {
   "cell_type": "code",
   "execution_count": null,
   "metadata": {},
   "outputs": [],
   "source": []
  }
 ],
 "metadata": {
  "kernelspec": {
   "display_name": "Python 3",
   "language": "python",
   "name": "python3"
  },
  "language_info": {
   "codemirror_mode": {
    "name": "ipython",
    "version": 3
   },
   "file_extension": ".py",
   "mimetype": "text/x-python",
   "name": "python",
   "nbconvert_exporter": "python",
   "pygments_lexer": "ipython3",
   "version": "3.8.5"
  }
 },
 "nbformat": 4,
 "nbformat_minor": 5
}
