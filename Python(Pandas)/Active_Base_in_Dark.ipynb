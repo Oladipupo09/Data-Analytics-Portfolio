{
 "cells": [
  {
   "cell_type": "markdown",
   "metadata": {},
   "source": [
    "# Active Base in Dark"
   ]
  },
  {
   "cell_type": "code",
   "execution_count": 1,
   "metadata": {},
   "outputs": [
    {
     "name": "stderr",
     "output_type": "stream",
     "text": [
      "C:\\ProgramData\\Anaconda3\\lib\\site-packages\\IPython\\core\\interactiveshell.py:3146: DtypeWarning: Columns (32) have mixed types.Specify dtype option on import or set low_memory=False.\n",
      "  has_raised = await self.run_ast_nodes(code_ast.body, cell_name,\n"
     ]
    }
   ],
   "source": [
    "#importing table 'BIGTABLE(Details)'and read as pandas.....\n",
    "import pandas as pd\n",
    "Details = pd.read_csv('Bigtable.csv',usecols = ['Full SFID','Contract Id','Type','System ID','Customer Signed By: Full Name','Customer Signed By: Phone','Customer: Secondary Phone number','Customer Warranty End Date','Price Book: Price Book Name','Contract Start Date','Status','StatusII','Customer Status'])"
   ]
  },
  {
   "cell_type": "code",
   "execution_count": 2,
   "metadata": {},
   "outputs": [],
   "source": [
    "#importing table 'DARK REPORT'(Dark) and read as pandas.....\n",
    "#Reading the required excel sheets and columns from the BI Daily Reports. The selected columns are considered valid for the required task\n",
    "r1 = pd.read_excel('BI NG daily reports of 2023-05-11.xlsx', 'Contracts', usecols = ['Contract','SaleCH','generation','LTOperiod','LTOunits','type'])\n",
    "\n",
    "r2 = pd.read_excel('BI NG daily reports of 2023-05-11.xlsx','Sps Contracts', usecols = ['Contract','activation_start','activation_end'])\n",
    "\n",
    "r3 = pd.read_excel('BI NG daily reports of 2023-05-11.xlsx','Contracts per PaidPeriod', usecols = ['Contract','PaidPeriods'])\n",
    "\n",
    "r4 = pd.read_excel('BI NG daily reports of 2023-05-11.xlsx','CRM contracts', names = ['Contract','CRMcontract'])\n",
    "\n",
    "r5 = pd.read_excel('BI NG daily reports of 2023-05-11.xlsx','Last payments', usecols = ['Contract','payment_date','activation_end'])\n",
    "\n",
    "r5.columns = ['Contract','last_payment_date','lastpayment_activation_end']"
   ]
  },
  {
   "cell_type": "code",
   "execution_count": 3,
   "metadata": {},
   "outputs": [],
   "source": [
    "r2['activation_start'] = pd.to_datetime(r2['activation_start']).dt.normalize()\n",
    "r2['activation_end'] = pd.to_datetime(r2['activation_end']).dt.normalize()\n",
    "r5['lastpayment_activation_end'] = pd.to_datetime(r5['lastpayment_activation_end'],errors = 'coerce')\n",
    "r5['last_payment_date'] = pd.to_datetime(r5['last_payment_date']).dt.normalize()\n",
    "r5['lastpayment_activation_end'] = pd.to_datetime(r5['lastpayment_activation_end']).dt.normalize()"
   ]
  },
  {
   "cell_type": "code",
   "execution_count": 4,
   "metadata": {},
   "outputs": [],
   "source": [
    "check1 = pd.merge(pd.merge(pd.merge(pd.merge(r1, r2, how='left', on='Contract'), r3, how='left', on='Contract'), r4, how='left', on='Contract'), r5, how='left', on='Contract')\n",
    "check1 = pd.merge(check1, Details, how='left', left_on='CRMcontract', right_on='Contract Id')\n",
    "\n",
    "check1 = check1[check1['Type'] == 'Production']\n",
    "\n",
    "check1[\"ref_activation_end\"] = check1[[\"activation_end\",\"lastpayment_activation_end\"]].max(axis=1)\n",
    "\n",
    "check1['ref_activation_end'] = check1['ref_activation_end'].fillna('1900-01-01')\n",
    "\n",
    "check1['ref_activation_end'] = pd.to_datetime(check1['ref_activation_end']).dt.normalize()"
   ]
  },
  {
   "cell_type": "code",
   "execution_count": 5,
   "metadata": {},
   "outputs": [],
   "source": [
    "import pandas as pd\n",
    "import datetime as date\n",
    "from datetime import date\n",
    "from datetime import timedelta\n",
    "\n",
    "today = pd.to_datetime('today').normalize() - timedelta(days=1)\n",
    "\n",
    "check1['Outage_days'] = (check1['ref_activation_end'] - today).dt.days"
   ]
  },
  {
   "cell_type": "code",
   "execution_count": 6,
   "metadata": {},
   "outputs": [],
   "source": [
    "check1['Customer Warranty End Date'] = pd.to_datetime(check1['Customer Warranty End Date'], format='%d/%m/%Y')\n",
    "\n",
    "check1['Contract Start Date'] = pd.to_datetime(check1['Contract Start Date'], format='%d/%m/%Y')"
   ]
  },
  {
   "cell_type": "code",
   "execution_count": 7,
   "metadata": {},
   "outputs": [],
   "source": [
    "import numpy as np\n",
    "filters = [\n",
    "   (check1['Price Book: Price Book Name'].str.contains(\"NWO\") == True)\n",
    "]\n",
    "values = ['LCP']\n",
    "\n",
    "check1[\"lcp_status\"] = np.select(filters, values, default='Non-LCP')"
   ]
  },
  {
   "cell_type": "code",
   "execution_count": 8,
   "metadata": {},
   "outputs": [],
   "source": [
    "import numpy as np\n",
    "\n",
    "filters = [\n",
    "    (check1.Outage_days > -1),\n",
    "   (check1.Outage_days > -60) & (check1.Outage_days < 0)\n",
    "]\n",
    "values = ['Paid','Active']\n",
    "check1[\"Old Status\"] = np.select(filters, values, default= 'Churn')"
   ]
  },
  {
   "cell_type": "code",
   "execution_count": 9,
   "metadata": {},
   "outputs": [],
   "source": [
    "check2 = check1[['Contract','CRMcontract','lcp_status','Outage_days','Type','Old Status','System ID','SaleCH','generation','Customer Signed By: Full Name','Customer Signed By: Phone',\n",
    "               'Customer: Secondary Phone number','type','Contract Start Date','Price Book: Price Book Name','Status','StatusII','Customer Status']]"
   ]
  },
  {
   "cell_type": "code",
   "execution_count": 10,
   "metadata": {},
   "outputs": [],
   "source": [
    "check3 = check2[((check2['Old Status'] == 'Active')  & ((check2['Price Book: Price Book Name'] != 'Direct-NG (NWO)') & (check2['Status'] != 'Cancelled') & (check2['StatusII'] != 'Freeing') & (check2['Customer Status'] != 'Owner') & (check2['Status'] != 'Canceled') & (check2['StatusII'] != 'Free') & (check2['Type'] == 'Production')))]\n",
    "\n"
   ]
  },
  {
   "cell_type": "code",
   "execution_count": 11,
   "metadata": {
    "scrolled": true
   },
   "outputs": [
    {
     "name": "stderr",
     "output_type": "stream",
     "text": [
      "C:\\ProgramData\\Anaconda3\\lib\\site-packages\\pandas\\core\\frame.py:4163: SettingWithCopyWarning: \n",
      "A value is trying to be set on a copy of a slice from a DataFrame\n",
      "\n",
      "See the caveats in the documentation: https://pandas.pydata.org/pandas-docs/stable/user_guide/indexing.html#returning-a-view-versus-a-copy\n",
      "  return super().drop(\n"
     ]
    }
   ],
   "source": [
    "check3.drop('Type', axis = 1, inplace=True)\n",
    "check3.drop('Price Book: Price Book Name', axis = 1, inplace=True)\n",
    "check3.drop('Status', axis = 1, inplace=True)\n",
    "check3.drop('StatusII', axis = 1, inplace=True)\n",
    "check3.drop('Customer Status', axis = 1, inplace=True)"
   ]
  },
  {
   "cell_type": "code",
   "execution_count": 12,
   "metadata": {
    "scrolled": true
   },
   "outputs": [],
   "source": [
    "check3.to_excel('Active Base in Dark.xlsx')"
   ]
  },
  {
   "cell_type": "code",
   "execution_count": 13,
   "metadata": {},
   "outputs": [
    {
     "data": {
      "text/plain": [
       "Old Status\n",
       "Active    10068\n",
       "Name: Contract, dtype: int64"
      ]
     },
     "execution_count": 13,
     "metadata": {},
     "output_type": "execute_result"
    }
   ],
   "source": [
    "check3.groupby(['Old Status']).count()['Contract']"
   ]
  },
  {
   "cell_type": "code",
   "execution_count": null,
   "metadata": {},
   "outputs": [],
   "source": []
  }
 ],
 "metadata": {
  "kernelspec": {
   "display_name": "Python 3",
   "language": "python",
   "name": "python3"
  },
  "language_info": {
   "codemirror_mode": {
    "name": "ipython",
    "version": 3
   },
   "file_extension": ".py",
   "mimetype": "text/x-python",
   "name": "python",
   "nbconvert_exporter": "python",
   "pygments_lexer": "ipython3",
   "version": "3.8.5"
  }
 },
 "nbformat": 4,
 "nbformat_minor": 4
}
