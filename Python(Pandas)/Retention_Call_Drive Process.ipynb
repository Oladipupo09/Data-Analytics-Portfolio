{
 "cells": [
  {
   "cell_type": "markdown",
   "metadata": {},
   "source": [
    "# Retention Dark days Drive"
   ]
  },
  {
   "cell_type": "code",
   "execution_count": 1,
   "metadata": {},
   "outputs": [],
   "source": [
    "# importing four(BIGTABLE(Details),DARK REPORT(Dark),SEGMENTATION(df),OPEN CASES (Opcase)) tables needed for Retention daily Drive(3,18,34 days in dark) by reading all of the workbook into pandas)\n",
    "# importing table 'SEGMENTATION(df)' and read as pandas.....\n",
    "import pandas as pd\n",
    "\n",
    "df = pd.read_csv('segement.csv')"
   ]
  },
  {
   "cell_type": "code",
   "execution_count": 2,
   "metadata": {},
   "outputs": [
    {
     "name": "stderr",
     "output_type": "stream",
     "text": [
      "C:\\ProgramData\\Anaconda3\\lib\\site-packages\\IPython\\core\\interactiveshell.py:3146: DtypeWarning: Columns (32) have mixed types.Specify dtype option on import or set low_memory=False.\n",
      "  has_raised = await self.run_ast_nodes(code_ast.body, cell_name,\n"
     ]
    }
   ],
   "source": [
    "#importing table 'BIGTABLE(Details)'and read as pandas.....\n",
    "Details = pd.read_csv('Bigtable.csv',usecols = ['Full SFID','Contract Id','Type','Customer Signed By: Full Name','Customer Signed By: Phone','Customer: Secondary Phone number','Customer Warranty End Date','Price Book: Price Book Name'])"
   ]
  },
  {
   "cell_type": "code",
   "execution_count": 3,
   "metadata": {
    "scrolled": false
   },
   "outputs": [],
   "source": [
    "#importing table 'DARK REPORT'(Dark) and read as pandas.....\n",
    "Dark = pd.read_csv('Dark_report.csv',usecols = ['contract_id','Days_in_Dark','LTOperiod','type','generation','ContractCreation'])"
   ]
  },
  {
   "cell_type": "code",
   "execution_count": 4,
   "metadata": {},
   "outputs": [],
   "source": [
    "#importing table 'OPEN CASES (Opcase)'and read as pandas....\n",
    "Opcase = pd.read_csv('Legal_FS_Open_Case.csv')"
   ]
  },
  {
   "cell_type": "code",
   "execution_count": 5,
   "metadata": {},
   "outputs": [],
   "source": [
    "# Joining 3 (Dark,Details and Opcase) table together to achieved part of the required coloumns for the report where Contract id(long Contract) was used for our primary key and join1 was delcared as variable.\n",
    "join1 = pd.merge(pd.merge(Dark, Details, how='left', left_on='contract_id', right_on='Full SFID'),Opcase[['Contract: Full SFID','Department','Subject']], how='left', left_on='contract_id', right_on='Contract: Full SFID')\n",
    "\n",
    "#join1.head()"
   ]
  },
  {
   "cell_type": "code",
   "execution_count": 6,
   "metadata": {},
   "outputs": [],
   "source": [
    "# Joining previous declared varible table (join1) with df table to include customer segmentation. \n",
    "# thus, a new variable was declared as Join2\n",
    "join2 = pd.merge(join1, df[['Contract Id','Potential Grouping Other']], how='left', on='Contract Id')"
   ]
  },
  {
   "cell_type": "code",
   "execution_count": 7,
   "metadata": {},
   "outputs": [],
   "source": [
    "# A date format was applied to both ContractCreation and Customer Warranty End Date. \n",
    "# Also normalized by removing the time stamp\n",
    "join2['Customer Warranty End Date'] = pd.to_datetime(join2['Customer Warranty End Date'], format='%d/%m/%Y')\n",
    "\n",
    "join2['ContractCreation'] = pd.to_datetime(join2['ContractCreation'], format='%Y/%m/%d')\n",
    "\n",
    "join2['ContractCreation'] = pd.to_datetime(join2['ContractCreation']).dt.normalize()"
   ]
  },
  {
   "cell_type": "code",
   "execution_count": 8,
   "metadata": {},
   "outputs": [],
   "source": [
    "#Applying  elif conditional statement to achieved customer within and outside warranty. \n",
    "#inaddition, to avoid timestamp and stir error date was converted datetime in pandas \n",
    "import datetime as date\n",
    "\n",
    "check = pd.to_datetime('01/10/2022')\n",
    "\n",
    "def warranty(i):\n",
    "    if i >= check:\n",
    "        return 'Within Warranty'\n",
    "    elif i == ' ':\n",
    "        return 'N/A'\n",
    "    else:\n",
    "        return 'Outside Warranty'\n",
    "    \n",
    "\n",
    "join2['Warranty Status'] = join2['Customer Warranty End Date'].apply(warranty)"
   ]
  },
  {
   "cell_type": "code",
   "execution_count": 9,
   "metadata": {},
   "outputs": [],
   "source": [
    "# Using filters as conditional statement on Join2 coloumn='Days_in_Dark' to achieved the exact numbers of required dark days in sentence for report.\n",
    "# However, an other coloumns='Dark_Days' was created on the table to identify the required dark days\n",
    "import numpy as np\n",
    "\n",
    "filters = [\n",
    "    (join2.Days_in_Dark == -1),\n",
    "   (join2.Days_in_Dark == -3),\n",
    "   (join2.Days_in_Dark == -18),\n",
    "   (join2.Days_in_Dark == -34)\n",
    "]\n",
    "values = ['1 DarkDay','3 DarkDays', '18 DarkDays', '34 DarkDays']\n",
    "\n",
    "join2[\"Dark_Days\"] = np.select(filters, values, default= join2['Days_in_Dark'])\n"
   ]
  },
  {
   "cell_type": "code",
   "execution_count": 10,
   "metadata": {},
   "outputs": [],
   "source": [
    "# Using filters as conditional statement on Join2 coloumn='Department' to achieved the required Open cases Pool Status(CSS Pool, FS Pool, Legal Pool) in sentence for report.\n",
    "# However, an other coloumns='Pool Status' was created on the table to identify the required Customer open cases Pool\n",
    "filters = [\n",
    "   (join2.Department == 'NG Legal'),\n",
    "   (join2.Department == 'NG FS') & (join2.Subject == 'Requests / Cancel membership')\n",
    "]\n",
    "values = ['Legal Pool', 'FS Pool']\n",
    "\n",
    "\n",
    "join2[\"Pool Status\"] = np.select(filters, values, default= 'CSS Pool')"
   ]
  },
  {
   "cell_type": "code",
   "execution_count": 11,
   "metadata": {},
   "outputs": [],
   "source": [
    "#Rearrangement of entire coloumns header to suit the report requirement [Contract Short Num\tConsecutive No Activity Days\teula_free_to_use_days\tCustomer name\tPayer number\tSecondary Number\tContract Model Type\tContract Start Date\tGeneration\tDark Days\tWarranty End Date\tWarranty Status @as 1st Nov'21\tPool Status\tCustomer Segmentation]\n",
    "# However, a new variable Join3 was created via Join2 variable. \n",
    "\n",
    "join3 = join2[['Contract Id','Days_in_Dark','LTOperiod','Type','Customer Signed By: Full Name','Customer Signed By: Phone',\n",
    "               'Customer: Secondary Phone number','type','ContractCreation','generation','Dark_Days','Customer Warranty End Date',\n",
    "               'Warranty Status','Pool Status','Potential Grouping Other','Price Book: Price Book Name']]"
   ]
  },
  {
   "cell_type": "code",
   "execution_count": 12,
   "metadata": {},
   "outputs": [],
   "source": [
    "# Selection of the exact dark days('-3','-18','-34') and contract type('production') from Join3 variable table\n",
    "join3 = join3[((join3['Days_in_Dark'] == -1) | (join3['Days_in_Dark'] == -3) | (join3['Days_in_Dark'] == -18) | (join3['Days_in_Dark'] == -34)) & ((join3['Price Book: Price Book Name'] != 'Direct-NG (NWO)') & (join3['Type'] == 'Production'))]\n",
    "\n",
    "\n",
    "join3.columns = ['Contract Short Num','Consecutive No Activity Days','Eula_Free_to_Use_Days','Type','Customer Name',\n",
    "               'Payer Number','Secondary Number','Contract Model Type','Contract Start Date','Generation','Dark Days',\n",
    "               'Warranty End Date','Warranty Status','Pool Status','Customer Segmentation','Price Book: Price Book Name']\n"
   ]
  },
  {
   "cell_type": "code",
   "execution_count": 13,
   "metadata": {},
   "outputs": [],
   "source": [
    "# dropping the coloumn=\"type\" which is not needed in the table.\n",
    "join3.drop('Type', axis = 1, inplace=True)\n",
    "join3.drop('Price Book: Price Book Name', axis = 1, inplace=True)"
   ]
  },
  {
   "cell_type": "code",
   "execution_count": 14,
   "metadata": {},
   "outputs": [],
   "source": [
    "# writing the final output into an excel file\n",
    "join3.to_excel('Retention Call Drive.xlsx')"
   ]
  },
  {
   "cell_type": "code",
   "execution_count": 15,
   "metadata": {
    "scrolled": true
   },
   "outputs": [
    {
     "data": {
      "text/plain": [
       "Generation  Dark Days  \n",
       "LEGACY      1 DarkDay      1498\n",
       "            18 DarkDays     180\n",
       "            3 DarkDays      799\n",
       "            34 DarkDays      84\n",
       "UNIFIED     1 DarkDay       109\n",
       "            18 DarkDays      20\n",
       "            3 DarkDays       46\n",
       "            34 DarkDays      18\n",
       "Name: Contract Short Num, dtype: int64"
      ]
     },
     "execution_count": 15,
     "metadata": {},
     "output_type": "execute_result"
    }
   ],
   "source": [
    "# grouped by Generation and Dark days to get summary counts\n",
    "join3.groupby(['Generation','Dark Days']).count()['Contract Short Num']"
   ]
  }
 ],
 "metadata": {
  "celltoolbar": "Raw Cell Format",
  "kernelspec": {
   "display_name": "Python 3",
   "language": "python",
   "name": "python3"
  },
  "language_info": {
   "codemirror_mode": {
    "name": "ipython",
    "version": 3
   },
   "file_extension": ".py",
   "mimetype": "text/x-python",
   "name": "python",
   "nbconvert_exporter": "python",
   "pygments_lexer": "ipython3",
   "version": "3.8.5"
  }
 },
 "nbformat": 4,
 "nbformat_minor": 4
}
